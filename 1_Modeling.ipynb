{
 "cells": [
  {
   "cell_type": "markdown",
   "id": "bec5f4de",
   "metadata": {},
   "source": [
    "# 0. Load Data"
   ]
  },
  {
   "cell_type": "code",
   "execution_count": 1,
   "id": "04f86b9d",
   "metadata": {},
   "outputs": [],
   "source": [
    "import math \n",
    "import collections\n",
    "import numpy as np\n",
    "import pandas as pd\n",
    "import seaborn as sns\n",
    "import matplotlib.pyplot as plt\n",
    "from datetime import datetime\n",
    "from joblib import dump\n",
    "\n",
    "# Isolation Forest\n",
    "from sklearn.model_selection import train_test_split\n",
    "from sklearn.ensemble import IsolationForest\n",
    "from sklearn.decomposition import PCA\n",
    "from sklearn.preprocessing import StandardScaler\n",
    "\n",
    "# VAE\n",
    "import tensorflow as tf\n",
    "from tensorflow import keras\n",
    "from tensorflow.keras import layers\n",
    "\n",
    "from keras.layers import Input, Dense, Lambda, Flatten, Reshape\n",
    "from keras.models import Model\n",
    "from keras.callbacks import EarlyStopping\n",
    "from keras import backend as K\n",
    "from keras import metrics"
   ]
  },
  {
   "cell_type": "code",
   "execution_count": 2,
   "id": "0c0c0f2d",
   "metadata": {},
   "outputs": [
    {
     "data": {
      "text/html": [
       "<div>\n",
       "<style scoped>\n",
       "    .dataframe tbody tr th:only-of-type {\n",
       "        vertical-align: middle;\n",
       "    }\n",
       "\n",
       "    .dataframe tbody tr th {\n",
       "        vertical-align: top;\n",
       "    }\n",
       "\n",
       "    .dataframe thead th {\n",
       "        text-align: right;\n",
       "    }\n",
       "</style>\n",
       "<table border=\"1\" class=\"dataframe\">\n",
       "  <thead>\n",
       "    <tr style=\"text-align: right;\">\n",
       "      <th></th>\n",
       "      <th>index</th>\n",
       "      <th>cell_id</th>\n",
       "      <th>DL_TRAFFIC_VOLUME</th>\n",
       "      <th>UL_TRAFFIC_VOLUME</th>\n",
       "      <th>Inter_X2_based_HO_prep</th>\n",
       "      <th>VoLTE_total_traffic</th>\n",
       "      <th>INTRA_FREQ_HO_SR_RATIO</th>\n",
       "      <th>RRC_SR_RATIO</th>\n",
       "      <th>CELL_AVAILABILITY_RATIO</th>\n",
       "      <th>RACH_Stp_Completion_SR_RATIO</th>\n",
       "      <th>...</th>\n",
       "      <th>DCR_LTE_RATIO</th>\n",
       "      <th>CSSR_LTE_RATIO</th>\n",
       "      <th>LTE_INTER_ENODEB_HOSR_RATIO</th>\n",
       "      <th>E_UTRAN_Inter_Freq_HO_SR_RATIO</th>\n",
       "      <th>Inter_RAT_HO_SR_GERAN_SRVCC_RATIO</th>\n",
       "      <th>Inter_RAT_Total_HO_SR_RATIO</th>\n",
       "      <th>E_UTRAN_tot_HO_SR_inter_eNB_X2_RATIO</th>\n",
       "      <th>E_RAB_DR_RATIO</th>\n",
       "      <th>HOUR</th>\n",
       "      <th>cell</th>\n",
       "    </tr>\n",
       "  </thead>\n",
       "  <tbody>\n",
       "    <tr>\n",
       "      <th>0</th>\n",
       "      <td>2021-05-09 00:00:00</td>\n",
       "      <td>2.226537e+17</td>\n",
       "      <td>3.779737e+10</td>\n",
       "      <td>3.947172e+09</td>\n",
       "      <td>15.0</td>\n",
       "      <td>4727.0</td>\n",
       "      <td>0.809859</td>\n",
       "      <td>0.992427</td>\n",
       "      <td>1.0</td>\n",
       "      <td>0.962688</td>\n",
       "      <td>...</td>\n",
       "      <td>0.001761</td>\n",
       "      <td>0.996041</td>\n",
       "      <td>0.400000</td>\n",
       "      <td>0.770642</td>\n",
       "      <td>0.963636</td>\n",
       "      <td>0.963636</td>\n",
       "      <td>0.400000</td>\n",
       "      <td>0.001761</td>\n",
       "      <td>0</td>\n",
       "      <td>0</td>\n",
       "    </tr>\n",
       "    <tr>\n",
       "      <th>1</th>\n",
       "      <td>2021-05-09 01:00:00</td>\n",
       "      <td>2.226537e+17</td>\n",
       "      <td>3.684898e+10</td>\n",
       "      <td>4.088752e+09</td>\n",
       "      <td>6.0</td>\n",
       "      <td>3076.0</td>\n",
       "      <td>0.886792</td>\n",
       "      <td>0.993288</td>\n",
       "      <td>1.0</td>\n",
       "      <td>0.973207</td>\n",
       "      <td>...</td>\n",
       "      <td>0.002468</td>\n",
       "      <td>0.995465</td>\n",
       "      <td>0.500000</td>\n",
       "      <td>0.842105</td>\n",
       "      <td>1.000000</td>\n",
       "      <td>1.000000</td>\n",
       "      <td>0.500000</td>\n",
       "      <td>0.002468</td>\n",
       "      <td>1</td>\n",
       "      <td>0</td>\n",
       "    </tr>\n",
       "    <tr>\n",
       "      <th>2</th>\n",
       "      <td>2021-05-09 02:00:00</td>\n",
       "      <td>2.226537e+17</td>\n",
       "      <td>3.292677e+10</td>\n",
       "      <td>5.016897e+09</td>\n",
       "      <td>8.0</td>\n",
       "      <td>3501.0</td>\n",
       "      <td>0.938356</td>\n",
       "      <td>0.994664</td>\n",
       "      <td>1.0</td>\n",
       "      <td>0.966330</td>\n",
       "      <td>...</td>\n",
       "      <td>0.003077</td>\n",
       "      <td>0.996044</td>\n",
       "      <td>0.375000</td>\n",
       "      <td>0.931624</td>\n",
       "      <td>1.000000</td>\n",
       "      <td>0.966667</td>\n",
       "      <td>0.375000</td>\n",
       "      <td>0.003077</td>\n",
       "      <td>2</td>\n",
       "      <td>0</td>\n",
       "    </tr>\n",
       "    <tr>\n",
       "      <th>3</th>\n",
       "      <td>2021-05-09 03:00:00</td>\n",
       "      <td>2.226537e+17</td>\n",
       "      <td>3.021547e+10</td>\n",
       "      <td>5.139107e+09</td>\n",
       "      <td>9.0</td>\n",
       "      <td>2275.0</td>\n",
       "      <td>0.860215</td>\n",
       "      <td>0.994819</td>\n",
       "      <td>1.0</td>\n",
       "      <td>0.943216</td>\n",
       "      <td>...</td>\n",
       "      <td>0.001721</td>\n",
       "      <td>0.995920</td>\n",
       "      <td>0.777778</td>\n",
       "      <td>0.816901</td>\n",
       "      <td>0.947368</td>\n",
       "      <td>0.947368</td>\n",
       "      <td>0.777778</td>\n",
       "      <td>0.001721</td>\n",
       "      <td>3</td>\n",
       "      <td>0</td>\n",
       "    </tr>\n",
       "    <tr>\n",
       "      <th>4</th>\n",
       "      <td>2021-05-09 04:00:00</td>\n",
       "      <td>2.226537e+17</td>\n",
       "      <td>3.082176e+10</td>\n",
       "      <td>4.250716e+09</td>\n",
       "      <td>17.0</td>\n",
       "      <td>2178.0</td>\n",
       "      <td>0.840426</td>\n",
       "      <td>0.995952</td>\n",
       "      <td>1.0</td>\n",
       "      <td>0.936256</td>\n",
       "      <td>...</td>\n",
       "      <td>0.002213</td>\n",
       "      <td>0.995628</td>\n",
       "      <td>0.764706</td>\n",
       "      <td>0.794521</td>\n",
       "      <td>1.000000</td>\n",
       "      <td>1.000000</td>\n",
       "      <td>0.764706</td>\n",
       "      <td>0.002213</td>\n",
       "      <td>4</td>\n",
       "      <td>0</td>\n",
       "    </tr>\n",
       "  </tbody>\n",
       "</table>\n",
       "<p>5 rows × 22 columns</p>\n",
       "</div>"
      ],
      "text/plain": [
       "                 index       cell_id  DL_TRAFFIC_VOLUME  UL_TRAFFIC_VOLUME  \\\n",
       "0  2021-05-09 00:00:00  2.226537e+17       3.779737e+10       3.947172e+09   \n",
       "1  2021-05-09 01:00:00  2.226537e+17       3.684898e+10       4.088752e+09   \n",
       "2  2021-05-09 02:00:00  2.226537e+17       3.292677e+10       5.016897e+09   \n",
       "3  2021-05-09 03:00:00  2.226537e+17       3.021547e+10       5.139107e+09   \n",
       "4  2021-05-09 04:00:00  2.226537e+17       3.082176e+10       4.250716e+09   \n",
       "\n",
       "   Inter_X2_based_HO_prep  VoLTE_total_traffic  INTRA_FREQ_HO_SR_RATIO  \\\n",
       "0                    15.0               4727.0                0.809859   \n",
       "1                     6.0               3076.0                0.886792   \n",
       "2                     8.0               3501.0                0.938356   \n",
       "3                     9.0               2275.0                0.860215   \n",
       "4                    17.0               2178.0                0.840426   \n",
       "\n",
       "   RRC_SR_RATIO  CELL_AVAILABILITY_RATIO  RACH_Stp_Completion_SR_RATIO  ...  \\\n",
       "0      0.992427                      1.0                      0.962688  ...   \n",
       "1      0.993288                      1.0                      0.973207  ...   \n",
       "2      0.994664                      1.0                      0.966330  ...   \n",
       "3      0.994819                      1.0                      0.943216  ...   \n",
       "4      0.995952                      1.0                      0.936256  ...   \n",
       "\n",
       "   DCR_LTE_RATIO  CSSR_LTE_RATIO  LTE_INTER_ENODEB_HOSR_RATIO  \\\n",
       "0       0.001761        0.996041                     0.400000   \n",
       "1       0.002468        0.995465                     0.500000   \n",
       "2       0.003077        0.996044                     0.375000   \n",
       "3       0.001721        0.995920                     0.777778   \n",
       "4       0.002213        0.995628                     0.764706   \n",
       "\n",
       "   E_UTRAN_Inter_Freq_HO_SR_RATIO  Inter_RAT_HO_SR_GERAN_SRVCC_RATIO  \\\n",
       "0                        0.770642                           0.963636   \n",
       "1                        0.842105                           1.000000   \n",
       "2                        0.931624                           1.000000   \n",
       "3                        0.816901                           0.947368   \n",
       "4                        0.794521                           1.000000   \n",
       "\n",
       "   Inter_RAT_Total_HO_SR_RATIO  E_UTRAN_tot_HO_SR_inter_eNB_X2_RATIO  \\\n",
       "0                     0.963636                              0.400000   \n",
       "1                     1.000000                              0.500000   \n",
       "2                     0.966667                              0.375000   \n",
       "3                     0.947368                              0.777778   \n",
       "4                     1.000000                              0.764706   \n",
       "\n",
       "   E_RAB_DR_RATIO  HOUR  cell  \n",
       "0        0.001761     0     0  \n",
       "1        0.002468     1     0  \n",
       "2        0.003077     2     0  \n",
       "3        0.001721     3     0  \n",
       "4        0.002213     4     0  \n",
       "\n",
       "[5 rows x 22 columns]"
      ]
     },
     "execution_count": 2,
     "metadata": {},
     "output_type": "execute_result"
    }
   ],
   "source": [
    "df = pd.read_csv(\"data/cleaned_KPIs.csv\")\n",
    "df.head()"
   ]
  },
  {
   "cell_type": "code",
   "execution_count": 3,
   "id": "d75cb9e5",
   "metadata": {},
   "outputs": [],
   "source": [
    "df = df.drop(['cell_id','index'],axis=1)"
   ]
  },
  {
   "cell_type": "markdown",
   "id": "8caf7790",
   "metadata": {},
   "source": [
    "# 1. Isolation Forest"
   ]
  },
  {
   "cell_type": "code",
   "execution_count": 4,
   "id": "beba0e52",
   "metadata": {},
   "outputs": [],
   "source": [
    "IF=IsolationForest(n_estimators=150, \n",
    "                      max_samples ='auto', \n",
    "                      max_features=1,random_state=42)"
   ]
  },
  {
   "cell_type": "code",
   "execution_count": 5,
   "id": "c1c33a46",
   "metadata": {},
   "outputs": [
    {
     "data": {
      "text/plain": [
       "array([0.51295825, 0.48509757, 0.53648751, 0.50925568, 0.48977436,\n",
       "       0.52157804, 0.50460632, 0.47403398, 0.47869537, 0.4786467 ,\n",
       "       0.46769137, 0.46808774, 0.47676634, 0.48726571, 0.48067503,\n",
       "       0.50214502, 0.47844321, 0.47284323, 0.46897991, 0.46007395])"
      ]
     },
     "execution_count": 5,
     "metadata": {},
     "output_type": "execute_result"
    }
   ],
   "source": [
    "IF.fit(df)\n",
    "# score_samples = - score  \n",
    "IF_score = -1 * IF.score_samples(df)\n",
    "IF_score[:20]"
   ]
  },
  {
   "cell_type": "markdown",
   "id": "158f3a5b",
   "metadata": {},
   "source": [
    "# 2. VAE\n",
    "\n",
    "[keras - Variational AutoEncoder 官方代码范例(复杂)](https://keras.io/examples/generative/vae/)\n",
    "\n",
    "[keras - AE/VAE 相对简单的代码构建](https://blog.keras.io/building-autoencoders-in-keras.html)\n",
    "\n",
    "[keras - 中等程度AVE 但是有点乱](https://github.com/keras-team/keras/blob/2c8d1d03599cc03243bce8f07ed9c4a3d5f384f9/examples/variational_autoencoder.py)\n",
    "\n",
    "\n",
    "\n",
    "\n",
    "\n",
    "\n",
    "\n",
    "[中文VAE理论+代码](https://blog.csdn.net/weixin_37737254/article/details/102920263)\n",
    "\n",
    "[keras - 函数式API](https://keras.io/guides/functional_api/)\n",
    "\n",
    "[keras - Conv1D](https://keras-zh.readthedocs.io/layers/convolutional/)\n"
   ]
  },
  {
   "cell_type": "markdown",
   "id": "f3164441",
   "metadata": {},
   "source": [
    "## 2.1 Build model"
   ]
  },
  {
   "cell_type": "markdown",
   "id": "d3d99a10",
   "metadata": {},
   "source": [
    "**(1) Standardize & Expand dimension**"
   ]
  },
  {
   "cell_type": "code",
   "execution_count": 9,
   "id": "945523ca",
   "metadata": {},
   "outputs": [
    {
     "data": {
      "text/plain": [
       "(8279, 1, 20)"
      ]
     },
     "execution_count": 9,
     "metadata": {},
     "output_type": "execute_result"
    }
   ],
   "source": [
    "df_scaled = StandardScaler().fit_transform(df)\n",
    "df_expand = np.expand_dims(df_scaled,axis=1)\n",
    "df_expand.shape"
   ]
  },
  {
   "cell_type": "markdown",
   "id": "646bc0fe",
   "metadata": {},
   "source": [
    "**(2) Define sampling function**"
   ]
  },
  {
   "cell_type": "code",
   "execution_count": 10,
   "id": "368be1d5",
   "metadata": {},
   "outputs": [],
   "source": [
    "def sampling(args):\n",
    "    z_mean, z_log_sigma = args\n",
    "    epsilon = K.random_normal(shape=(K.shape(z_mean)[0], latent_dim),\n",
    "                              mean=0., stddev=0.1)\n",
    "    return z_mean + K.exp(z_log_sigma) * epsilon"
   ]
  },
  {
   "cell_type": "markdown",
   "id": "da8f45fb",
   "metadata": {},
   "source": [
    "**(3) Build Encoder**"
   ]
  },
  {
   "cell_type": "code",
   "execution_count": 24,
   "id": "a9d03e9a",
   "metadata": {},
   "outputs": [
    {
     "name": "stdout",
     "output_type": "stream",
     "text": [
      "Model: \"encoder\"\n",
      "__________________________________________________________________________________________________\n",
      " Layer (type)                   Output Shape         Param #     Connected to                     \n",
      "==================================================================================================\n",
      " input_3 (InputLayer)           [(None, 1, 20)]      0           []                               \n",
      "                                                                                                  \n",
      " conv1d_4 (Conv1D)              (None, 1, 16)        976         ['input_3[0][0]']                \n",
      "                                                                                                  \n",
      " conv1d_5 (Conv1D)              (None, 1, 4)         196         ['conv1d_4[0][0]']               \n",
      "                                                                                                  \n",
      " flatten_2 (Flatten)            (None, 4)            0           ['conv1d_5[0][0]']               \n",
      "                                                                                                  \n",
      " z_mean (Dense)                 (None, 2)            10          ['flatten_2[0][0]']              \n",
      "                                                                                                  \n",
      " z_log_var (Dense)              (None, 2)            10          ['flatten_2[0][0]']              \n",
      "                                                                                                  \n",
      " lambda_2 (Lambda)              (None, 2)            0           ['z_mean[0][0]',                 \n",
      "                                                                  'z_log_var[0][0]']              \n",
      "                                                                                                  \n",
      "==================================================================================================\n",
      "Total params: 1,192\n",
      "Trainable params: 1,192\n",
      "Non-trainable params: 0\n",
      "__________________________________________________________________________________________________\n"
     ]
    }
   ],
   "source": [
    "original_dim = df.shape[1]\n",
    "intermediate_dim = 32\n",
    "latent_dim = 2\n",
    "\n",
    "# encoder input\n",
    "inputs = keras.Input(shape=(1,original_dim))\n",
    "x = layers.Conv1D(filters=16, kernel_size=3, \n",
    "                  padding=\"same\", activation=\"relu\")(inputs)\n",
    "x = layers.Conv1D(filters=4, kernel_size=3, \n",
    "                  padding=\"same\", activation=\"relu\")(x)\n",
    "x = layers.Flatten()(x)\n",
    "\n",
    "# the output of encoder\n",
    "z_mean      = layers.Dense(latent_dim, name=\"z_mean\")(x)\n",
    "z_log_sigma = layers.Dense(latent_dim, name=\"z_log_var\")(x)\n",
    "z           = layers.Lambda(sampling)([z_mean, z_log_sigma])\n",
    "\n",
    "# Create encoder\n",
    "encoder = keras.Model(inputs, [z_mean, z_log_sigma, z], name='encoder')\n",
    "encoder.summary()"
   ]
  },
  {
   "cell_type": "markdown",
   "id": "89a86f8c",
   "metadata": {},
   "source": [
    "**(4) Build Decoder**"
   ]
  },
  {
   "cell_type": "code",
   "execution_count": 25,
   "id": "12179934",
   "metadata": {
    "scrolled": true
   },
   "outputs": [
    {
     "name": "stdout",
     "output_type": "stream",
     "text": [
      "Model: \"decoder\"\n",
      "_________________________________________________________________\n",
      " Layer (type)                Output Shape              Param #   \n",
      "=================================================================\n",
      " z_sampling (InputLayer)     [(None, 2)]               0         \n",
      "                                                                 \n",
      " dense_2 (Dense)             (None, 4)                 12        \n",
      "                                                                 \n",
      " reshape_2 (Reshape)         (None, 1, 4)              0         \n",
      "                                                                 \n",
      " conv1d_transpose_4 (Conv1DT  (None, 1, 16)            208       \n",
      " ranspose)                                                       \n",
      "                                                                 \n",
      " conv1d_transpose_5 (Conv1DT  (None, 1, 20)            980       \n",
      " ranspose)                                                       \n",
      "                                                                 \n",
      "=================================================================\n",
      "Total params: 1,200\n",
      "Trainable params: 1,200\n",
      "Non-trainable params: 0\n",
      "_________________________________________________________________\n"
     ]
    }
   ],
   "source": [
    "# Create decoder\n",
    "latent_inputs = keras.Input(shape=(latent_dim,), name='z_sampling')\n",
    "x = layers.Dense(4, activation='relu')(latent_inputs)\n",
    "x = layers.Reshape((1,4))(x)\n",
    "x = layers.Conv1DTranspose(filters=16, kernel_size=3,\n",
    "                                 padding=\"same\", activation='relu')(x)\n",
    "outputs = layers.Conv1DTranspose(filters=original_dim, kernel_size=3,\n",
    "                                 padding=\"same\", activation='sigmoid')(x)\n",
    "decoder = keras.Model(latent_inputs, outputs, name='decoder')\n",
    "decoder.summary()"
   ]
  },
  {
   "cell_type": "markdown",
   "id": "1adb2e38",
   "metadata": {},
   "source": [
    "**(5) Build Variational AutoEncoder**"
   ]
  },
  {
   "cell_type": "code",
   "execution_count": 26,
   "id": "55cd58bc",
   "metadata": {},
   "outputs": [],
   "source": [
    "# Instantiate VAE model\n",
    "outputs = decoder(encoder(inputs)[2])\n",
    "vae = keras.Model(inputs, outputs, name='vae_mlp')\n",
    "\n",
    "# Define Loss Function\n",
    "reconstruction_loss = keras.losses.mean_squared_error(inputs, outputs)\n",
    "kl_loss = -0.5 * K.sum(1 + z_log_sigma - K.square(z_mean) - K.exp(z_log_sigma), axis=-1)\n",
    "vae_loss = K.mean(reconstruction_loss + 0.01* kl_loss) \n",
    "\n",
    "# Optimiser \n",
    "adam = keras.optimizers.Adam(learning_rate=0.001)\n",
    "# Add loss function\n",
    "vae.add_loss(vae_loss)\n",
    "vae.compile(optimizer=adam)\n"
   ]
  },
  {
   "cell_type": "markdown",
   "id": "375b054b",
   "metadata": {},
   "source": [
    "Notices:\n",
    "- weight of kl_loss?  [theoretical insight](https://stats.stackexchange.com/questions/332179/how-to-weight-kld-loss-vs-reconstruction-loss-in-variational-auto-encoder) + [a more specific example](https://stats.stackexchange.com/questions/341954/balancing-reconstruction-vs-kl-loss-variational-autoencoder)\n",
    "- reconsctruction_loss : if use `binary_crossentropy`( $BCE(y,p)=-y.log(p)-(1-y).log(1-p)$ ), the input value should be in 0~1. In our case, since we use 'StandardScaler', we'd better use `mse`, otherwise, when training the model, the loss becomes -inf "
   ]
  },
  {
   "cell_type": "markdown",
   "id": "0d4a3e53",
   "metadata": {},
   "source": [
    "**(6) Train model**"
   ]
  },
  {
   "cell_type": "code",
   "execution_count": 27,
   "id": "96e63ed7",
   "metadata": {},
   "outputs": [
    {
     "name": "stdout",
     "output_type": "stream",
     "text": [
      "Epoch 1/500\n",
      "65/65 [==============================] - 1s 9ms/step - loss: 1.2305 - val_loss: 1.1909\n",
      "Epoch 2/500\n",
      "65/65 [==============================] - 0s 5ms/step - loss: 1.0999 - val_loss: 1.0308\n",
      "Epoch 3/500\n",
      "65/65 [==============================] - 0s 4ms/step - loss: 1.0095 - val_loss: 0.9940\n",
      "Epoch 4/500\n",
      "65/65 [==============================] - 0s 4ms/step - loss: 0.9804 - val_loss: 0.9612\n",
      "Epoch 5/500\n",
      "65/65 [==============================] - 0s 4ms/step - loss: 0.9449 - val_loss: 0.9264\n",
      "Epoch 6/500\n",
      "65/65 [==============================] - 0s 4ms/step - loss: 0.9152 - val_loss: 0.9020\n",
      "Epoch 7/500\n",
      "65/65 [==============================] - 0s 4ms/step - loss: 0.8943 - val_loss: 0.8829\n",
      "Epoch 8/500\n",
      "65/65 [==============================] - 0s 4ms/step - loss: 0.8752 - val_loss: 0.8628\n",
      "Epoch 9/500\n",
      "65/65 [==============================] - 0s 4ms/step - loss: 0.8552 - val_loss: 0.8432\n",
      "Epoch 10/500\n",
      "65/65 [==============================] - 0s 4ms/step - loss: 0.8369 - val_loss: 0.8307\n",
      "Epoch 11/500\n",
      "65/65 [==============================] - 0s 4ms/step - loss: 0.8269 - val_loss: 0.8221\n",
      "Epoch 12/500\n",
      "65/65 [==============================] - 0s 4ms/step - loss: 0.8186 - val_loss: 0.8155\n",
      "Epoch 13/500\n",
      "65/65 [==============================] - 0s 4ms/step - loss: 0.8155 - val_loss: 0.8104\n",
      "Epoch 14/500\n",
      "65/65 [==============================] - 0s 4ms/step - loss: 0.8082 - val_loss: 0.8060\n",
      "Epoch 15/500\n",
      "65/65 [==============================] - 0s 4ms/step - loss: 0.8042 - val_loss: 0.8021\n",
      "Epoch 16/500\n",
      "65/65 [==============================] - 0s 4ms/step - loss: 0.8029 - val_loss: 0.7986\n",
      "Epoch 17/500\n",
      "65/65 [==============================] - 0s 4ms/step - loss: 0.7977 - val_loss: 0.7958\n",
      "Epoch 18/500\n",
      "65/65 [==============================] - 0s 4ms/step - loss: 0.7945 - val_loss: 0.7933\n",
      "Epoch 19/500\n",
      "65/65 [==============================] - 0s 4ms/step - loss: 0.7924 - val_loss: 0.7909\n",
      "Epoch 20/500\n",
      "65/65 [==============================] - 0s 4ms/step - loss: 0.7905 - val_loss: 0.7892\n",
      "Epoch 21/500\n",
      "65/65 [==============================] - 0s 4ms/step - loss: 0.7879 - val_loss: 0.7875\n",
      "Epoch 22/500\n",
      "65/65 [==============================] - 0s 4ms/step - loss: 0.7865 - val_loss: 0.7859\n",
      "Epoch 23/500\n",
      "65/65 [==============================] - 0s 4ms/step - loss: 0.7886 - val_loss: 0.7845\n",
      "Epoch 24/500\n",
      "65/65 [==============================] - 0s 4ms/step - loss: 0.7851 - val_loss: 0.7832\n",
      "Epoch 25/500\n",
      "65/65 [==============================] - 0s 5ms/step - loss: 0.7867 - val_loss: 0.7826\n",
      "Epoch 26/500\n",
      "65/65 [==============================] - 0s 4ms/step - loss: 0.7863 - val_loss: 0.7810\n",
      "Epoch 27/500\n",
      "65/65 [==============================] - 0s 4ms/step - loss: 0.7815 - val_loss: 0.7799\n",
      "Epoch 28/500\n",
      "65/65 [==============================] - 0s 4ms/step - loss: 0.7797 - val_loss: 0.7793\n",
      "Epoch 29/500\n",
      "65/65 [==============================] - 0s 4ms/step - loss: 0.7786 - val_loss: 0.7782\n",
      "Epoch 30/500\n",
      "65/65 [==============================] - 0s 4ms/step - loss: 0.7778 - val_loss: 0.7775\n",
      "Epoch 31/500\n",
      "65/65 [==============================] - 0s 4ms/step - loss: 0.7776 - val_loss: 0.7767\n",
      "Epoch 32/500\n",
      "65/65 [==============================] - 0s 4ms/step - loss: 0.7762 - val_loss: 0.7760\n",
      "Epoch 33/500\n",
      "65/65 [==============================] - 0s 4ms/step - loss: 0.7756 - val_loss: 0.7752\n",
      "Epoch 34/500\n",
      "65/65 [==============================] - 0s 5ms/step - loss: 0.7752 - val_loss: 0.7747\n",
      "Epoch 35/500\n",
      "65/65 [==============================] - 0s 4ms/step - loss: 0.7749 - val_loss: 0.7743\n",
      "Epoch 36/500\n",
      "65/65 [==============================] - 0s 4ms/step - loss: 0.7752 - val_loss: 0.7734\n",
      "Epoch 37/500\n",
      "65/65 [==============================] - 0s 4ms/step - loss: 0.7728 - val_loss: 0.7728\n",
      "Epoch 38/500\n",
      "65/65 [==============================] - 0s 4ms/step - loss: 0.7727 - val_loss: 0.7722\n",
      "Epoch 39/500\n",
      "65/65 [==============================] - 0s 4ms/step - loss: 0.7720 - val_loss: 0.7717\n",
      "Epoch 40/500\n",
      "65/65 [==============================] - 0s 4ms/step - loss: 0.7722 - val_loss: 0.7716\n",
      "Epoch 41/500\n",
      "65/65 [==============================] - 0s 4ms/step - loss: 0.7720 - val_loss: 0.7713\n",
      "Epoch 42/500\n",
      "65/65 [==============================] - 0s 4ms/step - loss: 0.7722 - val_loss: 0.7707\n",
      "Epoch 43/500\n",
      "65/65 [==============================] - 0s 4ms/step - loss: 0.7711 - val_loss: 0.7704\n",
      "Epoch 44/500\n",
      "65/65 [==============================] - 0s 4ms/step - loss: 0.7704 - val_loss: 0.7701\n",
      "Epoch 45/500\n",
      "65/65 [==============================] - 0s 4ms/step - loss: 0.7726 - val_loss: 0.7699\n",
      "Epoch 46/500\n",
      "65/65 [==============================] - 0s 4ms/step - loss: 0.7695 - val_loss: 0.7696\n",
      "Epoch 47/500\n",
      "65/65 [==============================] - 0s 4ms/step - loss: 0.7717 - val_loss: 0.7695\n",
      "Epoch 48/500\n",
      "65/65 [==============================] - 0s 4ms/step - loss: 0.7698 - val_loss: 0.7690\n",
      "Epoch 49/500\n",
      "65/65 [==============================] - 0s 4ms/step - loss: 0.7696 - val_loss: 0.7691\n",
      "Epoch 50/500\n",
      "65/65 [==============================] - 0s 4ms/step - loss: 0.7706 - val_loss: 0.7685\n",
      "Epoch 51/500\n",
      "65/65 [==============================] - 0s 4ms/step - loss: 0.7687 - val_loss: 0.7686\n",
      "Epoch 52/500\n",
      "65/65 [==============================] - 0s 4ms/step - loss: 0.7687 - val_loss: 0.7687\n",
      "Epoch 53/500\n",
      "65/65 [==============================] - 0s 4ms/step - loss: 0.7696 - val_loss: 0.7680\n",
      "Epoch 54/500\n",
      "65/65 [==============================] - 0s 4ms/step - loss: 0.7694 - val_loss: 0.7679\n",
      "Epoch 55/500\n",
      "65/65 [==============================] - 0s 4ms/step - loss: 0.7680 - val_loss: 0.7680\n",
      "Epoch 56/500\n",
      "65/65 [==============================] - 0s 4ms/step - loss: 0.7696 - val_loss: 0.7677\n",
      "Epoch 57/500\n",
      "65/65 [==============================] - 0s 4ms/step - loss: 0.7676 - val_loss: 0.7672\n",
      "Epoch 58/500\n",
      "65/65 [==============================] - 0s 4ms/step - loss: 0.7683 - val_loss: 0.7674\n",
      "Epoch 59/500\n",
      "65/65 [==============================] - 0s 4ms/step - loss: 0.7668 - val_loss: 0.7674\n",
      "Epoch 60/500\n",
      "65/65 [==============================] - 0s 4ms/step - loss: 0.7689 - val_loss: 0.7669\n",
      "Epoch 61/500\n",
      "65/65 [==============================] - 0s 4ms/step - loss: 0.7665 - val_loss: 0.7668\n",
      "Epoch 62/500\n",
      "65/65 [==============================] - 0s 4ms/step - loss: 0.7673 - val_loss: 0.7667\n",
      "Epoch 63/500\n",
      "65/65 [==============================] - 0s 4ms/step - loss: 0.7667 - val_loss: 0.7671\n",
      "Epoch 64/500\n",
      "65/65 [==============================] - 0s 4ms/step - loss: 0.7691 - val_loss: 0.7666\n",
      "Epoch 65/500\n",
      "65/65 [==============================] - 0s 4ms/step - loss: 0.7660 - val_loss: 0.7661\n",
      "Epoch 66/500\n",
      "65/65 [==============================] - 0s 4ms/step - loss: 0.7674 - val_loss: 0.7664\n",
      "Epoch 67/500\n",
      "65/65 [==============================] - 0s 4ms/step - loss: 0.7661 - val_loss: 0.7662\n",
      "Epoch 68/500\n",
      "65/65 [==============================] - 0s 4ms/step - loss: 0.7674 - val_loss: 0.7660\n",
      "Epoch 69/500\n",
      "65/65 [==============================] - 0s 4ms/step - loss: 0.7653 - val_loss: 0.7659\n",
      "Epoch 70/500\n",
      "65/65 [==============================] - 0s 4ms/step - loss: 0.7678 - val_loss: 0.7657\n",
      "Epoch 71/500\n",
      "65/65 [==============================] - 0s 4ms/step - loss: 0.7657 - val_loss: 0.7657\n",
      "Epoch 72/500\n",
      "65/65 [==============================] - 0s 4ms/step - loss: 0.7662 - val_loss: 0.7656\n",
      "Epoch 73/500\n",
      "65/65 [==============================] - 0s 4ms/step - loss: 0.7659 - val_loss: 0.7654\n",
      "Epoch 74/500\n",
      "65/65 [==============================] - 0s 4ms/step - loss: 0.7669 - val_loss: 0.7656\n",
      "Epoch 75/500\n",
      "65/65 [==============================] - 0s 4ms/step - loss: 0.7657 - val_loss: 0.7653\n",
      "Epoch 76/500\n",
      "65/65 [==============================] - 0s 4ms/step - loss: 0.7665 - val_loss: 0.7650\n",
      "Epoch 77/500\n",
      "65/65 [==============================] - 0s 4ms/step - loss: 0.7655 - val_loss: 0.7653\n",
      "Epoch 78/500\n",
      "65/65 [==============================] - 0s 4ms/step - loss: 0.7653 - val_loss: 0.7650\n",
      "Epoch 79/500\n",
      "65/65 [==============================] - 0s 4ms/step - loss: 0.7645 - val_loss: 0.7652\n",
      "Epoch 80/500\n",
      "65/65 [==============================] - 0s 4ms/step - loss: 0.7659 - val_loss: 0.7649\n",
      "Epoch 81/500\n",
      "65/65 [==============================] - 0s 4ms/step - loss: 0.7652 - val_loss: 0.7651\n",
      "Epoch 82/500\n",
      "65/65 [==============================] - 0s 4ms/step - loss: 0.7650 - val_loss: 0.7650\n",
      "Epoch 83/500\n"
     ]
    },
    {
     "name": "stdout",
     "output_type": "stream",
     "text": [
      "65/65 [==============================] - 0s 4ms/step - loss: 0.7668 - val_loss: 0.7650\n",
      "Epoch 84/500\n",
      "65/65 [==============================] - 0s 5ms/step - loss: 0.7655 - val_loss: 0.7647\n",
      "Epoch 85/500\n",
      "65/65 [==============================] - 0s 4ms/step - loss: 0.7660 - val_loss: 0.7650\n",
      "Epoch 86/500\n",
      "65/65 [==============================] - 0s 4ms/step - loss: 0.7655 - val_loss: 0.7644\n",
      "Epoch 87/500\n",
      "65/65 [==============================] - 0s 4ms/step - loss: 0.7648 - val_loss: 0.7646\n",
      "Epoch 88/500\n",
      "65/65 [==============================] - 0s 4ms/step - loss: 0.7652 - val_loss: 0.7644\n",
      "Epoch 89/500\n",
      "65/65 [==============================] - 0s 4ms/step - loss: 0.7648 - val_loss: 0.7644\n",
      "Epoch 90/500\n",
      "65/65 [==============================] - 0s 4ms/step - loss: 0.7670 - val_loss: 0.7642\n",
      "Epoch 91/500\n",
      "65/65 [==============================] - 0s 4ms/step - loss: 0.7680 - val_loss: 0.7641\n",
      "Epoch 92/500\n",
      "65/65 [==============================] - 0s 4ms/step - loss: 0.7643 - val_loss: 0.7640\n",
      "Epoch 93/500\n",
      "65/65 [==============================] - 0s 4ms/step - loss: 0.7651 - val_loss: 0.7640\n",
      "Epoch 94/500\n",
      "65/65 [==============================] - 0s 4ms/step - loss: 0.7647 - val_loss: 0.7641\n",
      "Epoch 95/500\n",
      "65/65 [==============================] - 0s 4ms/step - loss: 0.7642 - val_loss: 0.7642\n",
      "Epoch 96/500\n",
      "65/65 [==============================] - 0s 4ms/step - loss: 0.7642 - val_loss: 0.7641\n",
      "Epoch 97/500\n",
      "65/65 [==============================] - 0s 4ms/step - loss: 0.7637 - val_loss: 0.7640\n",
      "Epoch 98/500\n",
      "65/65 [==============================] - 0s 4ms/step - loss: 0.7666 - val_loss: 0.7641\n",
      "Epoch 99/500\n",
      "65/65 [==============================] - 0s 4ms/step - loss: 0.7638 - val_loss: 0.7639\n",
      "Epoch 100/500\n",
      "65/65 [==============================] - 0s 4ms/step - loss: 0.7640 - val_loss: 0.7640\n",
      "Epoch 101/500\n",
      "65/65 [==============================] - 0s 4ms/step - loss: 0.7641 - val_loss: 0.7636\n",
      "Epoch 102/500\n",
      "65/65 [==============================] - 0s 4ms/step - loss: 0.7682 - val_loss: 0.7636\n",
      "Epoch 103/500\n",
      "65/65 [==============================] - 0s 4ms/step - loss: 0.7631 - val_loss: 0.7636\n",
      "Epoch 104/500\n",
      "65/65 [==============================] - 0s 4ms/step - loss: 0.7650 - val_loss: 0.7638\n",
      "Epoch 105/500\n",
      "65/65 [==============================] - 0s 4ms/step - loss: 0.7633 - val_loss: 0.7635\n",
      "Epoch 106/500\n",
      "65/65 [==============================] - 0s 4ms/step - loss: 0.7639 - val_loss: 0.7635\n",
      "Epoch 107/500\n",
      "65/65 [==============================] - 0s 4ms/step - loss: 0.7640 - val_loss: 0.7635\n",
      "Epoch 108/500\n",
      "65/65 [==============================] - 0s 4ms/step - loss: 0.7630 - val_loss: 0.7636\n",
      "Epoch 109/500\n",
      "65/65 [==============================] - 0s 4ms/step - loss: 0.7626 - val_loss: 0.7631\n",
      "Epoch 110/500\n",
      "65/65 [==============================] - 0s 4ms/step - loss: 0.7633 - val_loss: 0.7634\n",
      "Epoch 111/500\n",
      "65/65 [==============================] - 0s 4ms/step - loss: 0.7633 - val_loss: 0.7632\n",
      "Epoch 112/500\n",
      "65/65 [==============================] - 0s 4ms/step - loss: 0.7635 - val_loss: 0.7633\n",
      "Epoch 113/500\n",
      "65/65 [==============================] - 0s 4ms/step - loss: 0.7649 - val_loss: 0.7634\n",
      "Epoch 114/500\n",
      "65/65 [==============================] - 0s 5ms/step - loss: 0.7646 - val_loss: 0.7632\n",
      "Epoch 115/500\n",
      "65/65 [==============================] - 0s 4ms/step - loss: 0.7627 - val_loss: 0.7632\n",
      "Epoch 116/500\n",
      "65/65 [==============================] - 0s 4ms/step - loss: 0.7637 - val_loss: 0.7632\n",
      "Epoch 117/500\n",
      "65/65 [==============================] - 0s 4ms/step - loss: 0.7636 - val_loss: 0.7633\n",
      "Epoch 118/500\n",
      "65/65 [==============================] - 0s 4ms/step - loss: 0.7624 - val_loss: 0.7633\n",
      "Epoch 119/500\n",
      "65/65 [==============================] - 0s 4ms/step - loss: 0.7635 - val_loss: 0.7631\n"
     ]
    },
    {
     "data": {
      "text/plain": [
       "<keras.callbacks.History at 0x1cd67e28fc8>"
      ]
     },
     "execution_count": 27,
     "metadata": {},
     "output_type": "execute_result"
    }
   ],
   "source": [
    "epochs = 500\n",
    "batch_size = 128\n",
    "callback = EarlyStopping(monitor='val_loss',patience=10)\n",
    "\n",
    "# Train model\n",
    "vae.fit(df_expand, df_expand,\n",
    "        epochs=epochs,\n",
    "        batch_size=batch_size,\n",
    "        validation_data=(df_expand, df_expand),\n",
    "        shuffle=True,\n",
    "#         verbose=False,\n",
    "        callbacks=[callback]\n",
    "       )"
   ]
  },
  {
   "cell_type": "markdown",
   "id": "3ade81d5",
   "metadata": {},
   "source": [
    "## 2.2 [Detect Anomaly](https://towardsdatascience.com/hands-on-anomaly-detection-with-variational-autoencoders-d4044672acd5)\n",
    "Detect anomaly by finding those who have a high reconstruction loss.\n",
    "\n",
    "\n",
    "Steps:\n",
    "1. Measure error between the original train (clean/normal) set and the output of the model, and generate an error vector representing the error term of each sample.\n",
    "\n",
    "2. Find a relatively extreme value on that vector to use as your error threshold.\n",
    "\n",
    "3. Run the model over the test or real data, in which anomalies are probably mixed with normal data.\n",
    "\n",
    "4. Measure the reconstruction error and mark samples that exhibit an error term higher than the error threshold as anomalies."
   ]
  },
  {
   "cell_type": "code",
   "execution_count": 29,
   "id": "c710e729",
   "metadata": {},
   "outputs": [],
   "source": [
    "def mse(original,reconstructed):\n",
    "    return np.mean(np.sum((original-reconstructed)**2,axis=1),axis=1)"
   ]
  },
  {
   "cell_type": "code",
   "execution_count": 30,
   "id": "aaf1a17a",
   "metadata": {},
   "outputs": [
    {
     "data": {
      "text/plain": [
       "array([0.95574188, 0.74010894, 1.40898764, 0.40141323, 0.40382746,\n",
       "       1.22788972, 4.22813033, 1.03912513, 1.4694415 , 1.82924355,\n",
       "       0.92050574, 0.37293549, 0.73248267, 1.39929683, 0.94583761,\n",
       "       1.27355998, 1.23500349, 0.47992888, 0.82621099, 0.74875029])"
      ]
     },
     "execution_count": 30,
     "metadata": {},
     "output_type": "execute_result"
    }
   ],
   "source": [
    "from sklearn.preprocessing import MinMaxScaler\n",
    "pred  = vae.predict(df_expand)\n",
    "\n",
    "VAE_loss = mse(df_expand,pred)\n",
    "VAE_loss[:20]"
   ]
  },
  {
   "cell_type": "markdown",
   "id": "da2806fe",
   "metadata": {},
   "source": [
    "# 3. VAE + IF"
   ]
  },
  {
   "cell_type": "code",
   "execution_count": 32,
   "id": "d583e5fd",
   "metadata": {},
   "outputs": [
    {
     "data": {
      "text/plain": [
       "[array([[ 0.15145175,  0.67342746],\n",
       "        [ 0.1974955 ,  0.8228035 ],\n",
       "        [-0.03004303,  1.4391849 ],\n",
       "        ...,\n",
       "        [-1.1357707 , -0.25398102],\n",
       "        [-1.1932938 , -0.20496166],\n",
       "        [-1.0822445 ,  0.09028078]], dtype=float32),\n",
       " array([[-0.6276679 , -0.9370456 ],\n",
       "        [-0.63363856, -0.9830327 ],\n",
       "        [-0.7005695 , -1.2157986 ],\n",
       "        ...,\n",
       "        [-0.84712607, -0.66307044],\n",
       "        [-1.0116639 , -0.5885675 ],\n",
       "        [-1.0018172 , -0.70408064]], dtype=float32),\n",
       " array([[ 0.15900487,  0.63194174],\n",
       "        [ 0.10854987,  0.82873064],\n",
       "        [-0.04562046,  1.4281056 ],\n",
       "        ...,\n",
       "        [-1.2081481 , -0.25612557],\n",
       "        [-1.2381322 , -0.2533036 ],\n",
       "        [-1.0661159 ,  0.03189711]], dtype=float32)]"
      ]
     },
     "execution_count": 32,
     "metadata": {},
     "output_type": "execute_result"
    }
   ],
   "source": [
    "encoder_output = encoder.predict(df_expand)\n",
    "encoder_output"
   ]
  },
  {
   "cell_type": "code",
   "execution_count": 33,
   "id": "7ffe722d",
   "metadata": {},
   "outputs": [
    {
     "data": {
      "text/html": [
       "<div>\n",
       "<style scoped>\n",
       "    .dataframe tbody tr th:only-of-type {\n",
       "        vertical-align: middle;\n",
       "    }\n",
       "\n",
       "    .dataframe tbody tr th {\n",
       "        vertical-align: top;\n",
       "    }\n",
       "\n",
       "    .dataframe thead th {\n",
       "        text-align: right;\n",
       "    }\n",
       "</style>\n",
       "<table border=\"1\" class=\"dataframe\">\n",
       "  <thead>\n",
       "    <tr style=\"text-align: right;\">\n",
       "      <th></th>\n",
       "      <th>mean1</th>\n",
       "      <th>mean2</th>\n",
       "      <th>log_var1</th>\n",
       "      <th>log_var2</th>\n",
       "    </tr>\n",
       "  </thead>\n",
       "  <tbody>\n",
       "    <tr>\n",
       "      <th>0</th>\n",
       "      <td>0.151452</td>\n",
       "      <td>0.673427</td>\n",
       "      <td>-0.627668</td>\n",
       "      <td>-0.937046</td>\n",
       "    </tr>\n",
       "    <tr>\n",
       "      <th>1</th>\n",
       "      <td>0.197496</td>\n",
       "      <td>0.822803</td>\n",
       "      <td>-0.633639</td>\n",
       "      <td>-0.983033</td>\n",
       "    </tr>\n",
       "    <tr>\n",
       "      <th>2</th>\n",
       "      <td>-0.030043</td>\n",
       "      <td>1.439185</td>\n",
       "      <td>-0.700570</td>\n",
       "      <td>-1.215799</td>\n",
       "    </tr>\n",
       "    <tr>\n",
       "      <th>3</th>\n",
       "      <td>0.294835</td>\n",
       "      <td>0.708938</td>\n",
       "      <td>-0.617177</td>\n",
       "      <td>-0.931661</td>\n",
       "    </tr>\n",
       "    <tr>\n",
       "      <th>4</th>\n",
       "      <td>0.192892</td>\n",
       "      <td>0.769851</td>\n",
       "      <td>-0.630769</td>\n",
       "      <td>-0.964752</td>\n",
       "    </tr>\n",
       "    <tr>\n",
       "      <th>...</th>\n",
       "      <td>...</td>\n",
       "      <td>...</td>\n",
       "      <td>...</td>\n",
       "      <td>...</td>\n",
       "    </tr>\n",
       "    <tr>\n",
       "      <th>8274</th>\n",
       "      <td>-1.249233</td>\n",
       "      <td>-0.249652</td>\n",
       "      <td>-0.867745</td>\n",
       "      <td>-0.668523</td>\n",
       "    </tr>\n",
       "    <tr>\n",
       "      <th>8275</th>\n",
       "      <td>-1.332658</td>\n",
       "      <td>-0.155256</td>\n",
       "      <td>-0.977586</td>\n",
       "      <td>-0.651610</td>\n",
       "    </tr>\n",
       "    <tr>\n",
       "      <th>8276</th>\n",
       "      <td>-1.135771</td>\n",
       "      <td>-0.253981</td>\n",
       "      <td>-0.847126</td>\n",
       "      <td>-0.663070</td>\n",
       "    </tr>\n",
       "    <tr>\n",
       "      <th>8277</th>\n",
       "      <td>-1.193294</td>\n",
       "      <td>-0.204962</td>\n",
       "      <td>-1.011664</td>\n",
       "      <td>-0.588567</td>\n",
       "    </tr>\n",
       "    <tr>\n",
       "      <th>8278</th>\n",
       "      <td>-1.082245</td>\n",
       "      <td>0.090281</td>\n",
       "      <td>-1.001817</td>\n",
       "      <td>-0.704081</td>\n",
       "    </tr>\n",
       "  </tbody>\n",
       "</table>\n",
       "<p>8279 rows × 4 columns</p>\n",
       "</div>"
      ],
      "text/plain": [
       "         mean1     mean2  log_var1  log_var2\n",
       "0     0.151452  0.673427 -0.627668 -0.937046\n",
       "1     0.197496  0.822803 -0.633639 -0.983033\n",
       "2    -0.030043  1.439185 -0.700570 -1.215799\n",
       "3     0.294835  0.708938 -0.617177 -0.931661\n",
       "4     0.192892  0.769851 -0.630769 -0.964752\n",
       "...        ...       ...       ...       ...\n",
       "8274 -1.249233 -0.249652 -0.867745 -0.668523\n",
       "8275 -1.332658 -0.155256 -0.977586 -0.651610\n",
       "8276 -1.135771 -0.253981 -0.847126 -0.663070\n",
       "8277 -1.193294 -0.204962 -1.011664 -0.588567\n",
       "8278 -1.082245  0.090281 -1.001817 -0.704081\n",
       "\n",
       "[8279 rows x 4 columns]"
      ]
     },
     "execution_count": 33,
     "metadata": {},
     "output_type": "execute_result"
    }
   ],
   "source": [
    "def feature_from_encoder(encoder_output):\n",
    "    # take mean and log_var as features\n",
    "    df_encoded_mean   = pd.DataFrame(encoder_output[0],columns=[\"mean1\",\"mean2\"])\n",
    "    df_encoded_logvar = pd.DataFrame(encoder_output[1],columns=[\"log_var1\",\"log_var2\"])\n",
    "    df_encoded        = df_encoded_mean.join(df_encoded_logvar)\n",
    "    return df_encoded\n",
    "\n",
    "df_encoded = feature_from_encoder(encoder_output)\n",
    "df_encoded"
   ]
  },
  {
   "cell_type": "code",
   "execution_count": 34,
   "id": "ac94f4f6",
   "metadata": {},
   "outputs": [
    {
     "data": {
      "text/plain": [
       "IsolationForest(max_features=1, n_estimators=150, random_state=42)"
      ]
     },
     "execution_count": 34,
     "metadata": {},
     "output_type": "execute_result"
    }
   ],
   "source": [
    "VAE_IF=IsolationForest(n_estimators=150, \n",
    "                       max_samples ='auto', \n",
    "                       max_features=1,random_state=42)\n",
    "VAE_IF.fit(df_encoded)"
   ]
  },
  {
   "cell_type": "code",
   "execution_count": 35,
   "id": "647dd300",
   "metadata": {},
   "outputs": [
    {
     "data": {
      "text/plain": [
       "array([0.51271279, 0.54316519, 0.57967423, 0.50089449, 0.53539828,\n",
       "       0.52769579, 0.60597198, 0.48675719, 0.50715018, 0.57402689,\n",
       "       0.47712399, 0.50684816, 0.4987749 , 0.52490326, 0.5081528 ,\n",
       "       0.51071541, 0.50904507, 0.53317155, 0.49798758, 0.49262519])"
      ]
     },
     "execution_count": 35,
     "metadata": {},
     "output_type": "execute_result"
    }
   ],
   "source": [
    "VAE_IF_score = -1 * VAE_IF.score_samples(df_encoded)\n",
    "VAE_IF_score[:20]"
   ]
  },
  {
   "cell_type": "markdown",
   "id": "56a4979f",
   "metadata": {},
   "source": [
    "# 4. Combination of results"
   ]
  },
  {
   "cell_type": "code",
   "execution_count": 37,
   "id": "a666419c",
   "metadata": {},
   "outputs": [
    {
     "data": {
      "text/plain": [
       "count    8279.000000\n",
       "mean        0.451213\n",
       "std         0.030114\n",
       "min         0.403969\n",
       "25%         0.428277\n",
       "50%         0.443766\n",
       "75%         0.471093\n",
       "max         0.599004\n",
       "Name: IF_score, dtype: float64"
      ]
     },
     "execution_count": 37,
     "metadata": {},
     "output_type": "execute_result"
    }
   ],
   "source": [
    "df['IF_score'] = IF_score\n",
    "df['IF_score'].describe()"
   ]
  },
  {
   "cell_type": "code",
   "execution_count": 38,
   "id": "15f0b013",
   "metadata": {},
   "outputs": [
    {
     "data": {
      "text/plain": [
       "count    8279.000000\n",
       "mean        0.758763\n",
       "std         2.107592\n",
       "min         0.030704\n",
       "25%         0.209868\n",
       "50%         0.380608\n",
       "75%         0.782475\n",
       "max        98.161029\n",
       "Name: VAE_loss, dtype: float64"
      ]
     },
     "execution_count": 38,
     "metadata": {},
     "output_type": "execute_result"
    }
   ],
   "source": [
    "df['VAE_loss'] = VAE_loss\n",
    "df['VAE_loss'].describe()"
   ]
  },
  {
   "cell_type": "markdown",
   "id": "873cac85",
   "metadata": {},
   "source": [
    "Notice there is some extreme value in `VAE_loss`, which may affect our later visualization "
   ]
  },
  {
   "cell_type": "code",
   "execution_count": 39,
   "id": "426fe229",
   "metadata": {},
   "outputs": [
    {
     "data": {
      "text/plain": [
       "5.043369480297673"
      ]
     },
     "execution_count": 39,
     "metadata": {},
     "output_type": "execute_result"
    }
   ],
   "source": [
    "df['VAE_loss'].quantile(0.99)"
   ]
  },
  {
   "cell_type": "code",
   "execution_count": 40,
   "id": "c4dd3e02",
   "metadata": {},
   "outputs": [
    {
     "data": {
      "text/plain": [
       "count    8279.000000\n",
       "mean        0.483081\n",
       "std         0.041823\n",
       "min         0.413949\n",
       "25%         0.450000\n",
       "50%         0.482546\n",
       "75%         0.504757\n",
       "max         0.657840\n",
       "Name: VAE_IF_score, dtype: float64"
      ]
     },
     "execution_count": 40,
     "metadata": {},
     "output_type": "execute_result"
    }
   ],
   "source": [
    "df['VAE_IF_score'] = VAE_IF_score\n",
    "df['VAE_IF_score'].describe()"
   ]
  },
  {
   "cell_type": "code",
   "execution_count": 41,
   "id": "77f67feb",
   "metadata": {},
   "outputs": [
    {
     "data": {
      "text/html": [
       "<div>\n",
       "<style scoped>\n",
       "    .dataframe tbody tr th:only-of-type {\n",
       "        vertical-align: middle;\n",
       "    }\n",
       "\n",
       "    .dataframe tbody tr th {\n",
       "        vertical-align: top;\n",
       "    }\n",
       "\n",
       "    .dataframe thead th {\n",
       "        text-align: right;\n",
       "    }\n",
       "</style>\n",
       "<table border=\"1\" class=\"dataframe\">\n",
       "  <thead>\n",
       "    <tr style=\"text-align: right;\">\n",
       "      <th></th>\n",
       "      <th>DL_TRAFFIC_VOLUME</th>\n",
       "      <th>UL_TRAFFIC_VOLUME</th>\n",
       "      <th>Inter_X2_based_HO_prep</th>\n",
       "      <th>VoLTE_total_traffic</th>\n",
       "      <th>INTRA_FREQ_HO_SR_RATIO</th>\n",
       "      <th>RRC_SR_RATIO</th>\n",
       "      <th>CELL_AVAILABILITY_RATIO</th>\n",
       "      <th>RACH_Stp_Completion_SR_RATIO</th>\n",
       "      <th>Inter_RAT_HO_SR_UTRAN_SRVCC_RATIO</th>\n",
       "      <th>E_RAB_QCI1_DR_RATIO</th>\n",
       "      <th>...</th>\n",
       "      <th>E_UTRAN_Inter_Freq_HO_SR_RATIO</th>\n",
       "      <th>Inter_RAT_HO_SR_GERAN_SRVCC_RATIO</th>\n",
       "      <th>Inter_RAT_Total_HO_SR_RATIO</th>\n",
       "      <th>E_UTRAN_tot_HO_SR_inter_eNB_X2_RATIO</th>\n",
       "      <th>E_RAB_DR_RATIO</th>\n",
       "      <th>HOUR</th>\n",
       "      <th>cell</th>\n",
       "      <th>IF_score</th>\n",
       "      <th>VAE_loss</th>\n",
       "      <th>VAE_IF_score</th>\n",
       "    </tr>\n",
       "  </thead>\n",
       "  <tbody>\n",
       "    <tr>\n",
       "      <th>0</th>\n",
       "      <td>3.779737e+10</td>\n",
       "      <td>3.947172e+09</td>\n",
       "      <td>15.0</td>\n",
       "      <td>4727.0</td>\n",
       "      <td>0.809859</td>\n",
       "      <td>0.992427</td>\n",
       "      <td>1.0</td>\n",
       "      <td>0.962688</td>\n",
       "      <td>0.576414</td>\n",
       "      <td>0.000000</td>\n",
       "      <td>...</td>\n",
       "      <td>0.770642</td>\n",
       "      <td>0.963636</td>\n",
       "      <td>0.963636</td>\n",
       "      <td>0.400000</td>\n",
       "      <td>0.001761</td>\n",
       "      <td>0</td>\n",
       "      <td>0</td>\n",
       "      <td>0.512958</td>\n",
       "      <td>0.955742</td>\n",
       "      <td>0.512713</td>\n",
       "    </tr>\n",
       "    <tr>\n",
       "      <th>1</th>\n",
       "      <td>3.684898e+10</td>\n",
       "      <td>4.088752e+09</td>\n",
       "      <td>6.0</td>\n",
       "      <td>3076.0</td>\n",
       "      <td>0.886792</td>\n",
       "      <td>0.993288</td>\n",
       "      <td>1.0</td>\n",
       "      <td>0.973207</td>\n",
       "      <td>0.576414</td>\n",
       "      <td>0.000000</td>\n",
       "      <td>...</td>\n",
       "      <td>0.842105</td>\n",
       "      <td>1.000000</td>\n",
       "      <td>1.000000</td>\n",
       "      <td>0.500000</td>\n",
       "      <td>0.002468</td>\n",
       "      <td>1</td>\n",
       "      <td>0</td>\n",
       "      <td>0.485098</td>\n",
       "      <td>0.740109</td>\n",
       "      <td>0.543165</td>\n",
       "    </tr>\n",
       "    <tr>\n",
       "      <th>2</th>\n",
       "      <td>3.292677e+10</td>\n",
       "      <td>5.016897e+09</td>\n",
       "      <td>8.0</td>\n",
       "      <td>3501.0</td>\n",
       "      <td>0.938356</td>\n",
       "      <td>0.994664</td>\n",
       "      <td>1.0</td>\n",
       "      <td>0.966330</td>\n",
       "      <td>0.000000</td>\n",
       "      <td>0.013889</td>\n",
       "      <td>...</td>\n",
       "      <td>0.931624</td>\n",
       "      <td>1.000000</td>\n",
       "      <td>0.966667</td>\n",
       "      <td>0.375000</td>\n",
       "      <td>0.003077</td>\n",
       "      <td>2</td>\n",
       "      <td>0</td>\n",
       "      <td>0.536488</td>\n",
       "      <td>1.408988</td>\n",
       "      <td>0.579674</td>\n",
       "    </tr>\n",
       "    <tr>\n",
       "      <th>3</th>\n",
       "      <td>3.021547e+10</td>\n",
       "      <td>5.139107e+09</td>\n",
       "      <td>9.0</td>\n",
       "      <td>2275.0</td>\n",
       "      <td>0.860215</td>\n",
       "      <td>0.994819</td>\n",
       "      <td>1.0</td>\n",
       "      <td>0.943216</td>\n",
       "      <td>0.576414</td>\n",
       "      <td>0.000000</td>\n",
       "      <td>...</td>\n",
       "      <td>0.816901</td>\n",
       "      <td>0.947368</td>\n",
       "      <td>0.947368</td>\n",
       "      <td>0.777778</td>\n",
       "      <td>0.001721</td>\n",
       "      <td>3</td>\n",
       "      <td>0</td>\n",
       "      <td>0.509256</td>\n",
       "      <td>0.401413</td>\n",
       "      <td>0.500894</td>\n",
       "    </tr>\n",
       "    <tr>\n",
       "      <th>4</th>\n",
       "      <td>3.082176e+10</td>\n",
       "      <td>4.250716e+09</td>\n",
       "      <td>17.0</td>\n",
       "      <td>2178.0</td>\n",
       "      <td>0.840426</td>\n",
       "      <td>0.995952</td>\n",
       "      <td>1.0</td>\n",
       "      <td>0.936256</td>\n",
       "      <td>0.576414</td>\n",
       "      <td>0.000000</td>\n",
       "      <td>...</td>\n",
       "      <td>0.794521</td>\n",
       "      <td>1.000000</td>\n",
       "      <td>1.000000</td>\n",
       "      <td>0.764706</td>\n",
       "      <td>0.002213</td>\n",
       "      <td>4</td>\n",
       "      <td>0</td>\n",
       "      <td>0.489774</td>\n",
       "      <td>0.403827</td>\n",
       "      <td>0.535398</td>\n",
       "    </tr>\n",
       "  </tbody>\n",
       "</table>\n",
       "<p>5 rows × 23 columns</p>\n",
       "</div>"
      ],
      "text/plain": [
       "   DL_TRAFFIC_VOLUME  UL_TRAFFIC_VOLUME  Inter_X2_based_HO_prep  \\\n",
       "0       3.779737e+10       3.947172e+09                    15.0   \n",
       "1       3.684898e+10       4.088752e+09                     6.0   \n",
       "2       3.292677e+10       5.016897e+09                     8.0   \n",
       "3       3.021547e+10       5.139107e+09                     9.0   \n",
       "4       3.082176e+10       4.250716e+09                    17.0   \n",
       "\n",
       "   VoLTE_total_traffic  INTRA_FREQ_HO_SR_RATIO  RRC_SR_RATIO  \\\n",
       "0               4727.0                0.809859      0.992427   \n",
       "1               3076.0                0.886792      0.993288   \n",
       "2               3501.0                0.938356      0.994664   \n",
       "3               2275.0                0.860215      0.994819   \n",
       "4               2178.0                0.840426      0.995952   \n",
       "\n",
       "   CELL_AVAILABILITY_RATIO  RACH_Stp_Completion_SR_RATIO  \\\n",
       "0                      1.0                      0.962688   \n",
       "1                      1.0                      0.973207   \n",
       "2                      1.0                      0.966330   \n",
       "3                      1.0                      0.943216   \n",
       "4                      1.0                      0.936256   \n",
       "\n",
       "   Inter_RAT_HO_SR_UTRAN_SRVCC_RATIO  E_RAB_QCI1_DR_RATIO  ...  \\\n",
       "0                           0.576414             0.000000  ...   \n",
       "1                           0.576414             0.000000  ...   \n",
       "2                           0.000000             0.013889  ...   \n",
       "3                           0.576414             0.000000  ...   \n",
       "4                           0.576414             0.000000  ...   \n",
       "\n",
       "   E_UTRAN_Inter_Freq_HO_SR_RATIO  Inter_RAT_HO_SR_GERAN_SRVCC_RATIO  \\\n",
       "0                        0.770642                           0.963636   \n",
       "1                        0.842105                           1.000000   \n",
       "2                        0.931624                           1.000000   \n",
       "3                        0.816901                           0.947368   \n",
       "4                        0.794521                           1.000000   \n",
       "\n",
       "   Inter_RAT_Total_HO_SR_RATIO  E_UTRAN_tot_HO_SR_inter_eNB_X2_RATIO  \\\n",
       "0                     0.963636                              0.400000   \n",
       "1                     1.000000                              0.500000   \n",
       "2                     0.966667                              0.375000   \n",
       "3                     0.947368                              0.777778   \n",
       "4                     1.000000                              0.764706   \n",
       "\n",
       "   E_RAB_DR_RATIO  HOUR  cell  IF_score  VAE_loss  VAE_IF_score  \n",
       "0        0.001761     0     0  0.512958  0.955742      0.512713  \n",
       "1        0.002468     1     0  0.485098  0.740109      0.543165  \n",
       "2        0.003077     2     0  0.536488  1.408988      0.579674  \n",
       "3        0.001721     3     0  0.509256  0.401413      0.500894  \n",
       "4        0.002213     4     0  0.489774  0.403827      0.535398  \n",
       "\n",
       "[5 rows x 23 columns]"
      ]
     },
     "execution_count": 41,
     "metadata": {},
     "output_type": "execute_result"
    }
   ],
   "source": [
    "df.head()"
   ]
  },
  {
   "cell_type": "markdown",
   "id": "b1ad6fcc",
   "metadata": {},
   "source": [
    "# 5. Save Results"
   ]
  },
  {
   "cell_type": "markdown",
   "id": "6622f36e",
   "metadata": {},
   "source": [
    "## 5.1 Save models"
   ]
  },
  {
   "cell_type": "code",
   "execution_count": 51,
   "id": "c3f2914d",
   "metadata": {},
   "outputs": [
    {
     "data": {
      "text/plain": [
       "['model/IF.joblib']"
      ]
     },
     "execution_count": 51,
     "metadata": {},
     "output_type": "execute_result"
    }
   ],
   "source": [
    "#save model\n",
    "dump(IF,\"model/IF.joblib\")"
   ]
  },
  {
   "cell_type": "code",
   "execution_count": 28,
   "id": "943ba5ac",
   "metadata": {},
   "outputs": [
    {
     "name": "stdout",
     "output_type": "stream",
     "text": [
      "INFO:tensorflow:Assets written to: model/VAE\\assets\n",
      "WARNING:tensorflow:Compiled the loaded model, but the compiled metrics have yet to be built. `model.compile_metrics` will be empty until you train or evaluate the model.\n",
      "INFO:tensorflow:Assets written to: model/Encoder\\assets\n",
      "WARNING:tensorflow:Compiled the loaded model, but the compiled metrics have yet to be built. `model.compile_metrics` will be empty until you train or evaluate the model.\n",
      "INFO:tensorflow:Assets written to: model/Decoder\\assets\n"
     ]
    }
   ],
   "source": [
    "vae.save(\"model/VAE\")\n",
    "encoder.save(\"model/Encoder\")\n",
    "decoder.save(\"model/Decoder\")"
   ]
  },
  {
   "cell_type": "code",
   "execution_count": 50,
   "id": "6b164e50",
   "metadata": {},
   "outputs": [
    {
     "data": {
      "text/plain": [
       "['model/VAE_IF.joblib']"
      ]
     },
     "execution_count": 50,
     "metadata": {},
     "output_type": "execute_result"
    }
   ],
   "source": [
    "#save model\n",
    "dump(VAE_IF,\"model/VAE_IF.joblib\")"
   ]
  },
  {
   "cell_type": "markdown",
   "id": "cf3f5b01",
   "metadata": {},
   "source": [
    "## 5.2 Save Data"
   ]
  },
  {
   "cell_type": "code",
   "execution_count": 48,
   "id": "7c0e409a",
   "metadata": {},
   "outputs": [],
   "source": [
    "df.to_csv(\"data/KPIs_with_metrics.csv\",index=False)"
   ]
  }
 ],
 "metadata": {
  "kernelspec": {
   "display_name": "Python 3",
   "language": "python",
   "name": "python3"
  },
  "language_info": {
   "codemirror_mode": {
    "name": "ipython",
    "version": 3
   },
   "file_extension": ".py",
   "mimetype": "text/x-python",
   "name": "python",
   "nbconvert_exporter": "python",
   "pygments_lexer": "ipython3",
   "version": "3.7.6"
  },
  "latex_envs": {
   "LaTeX_envs_menu_present": true,
   "autoclose": false,
   "autocomplete": true,
   "bibliofile": "biblio.bib",
   "cite_by": "apalike",
   "current_citInitial": 1,
   "eqLabelWithNumbers": true,
   "eqNumInitial": 1,
   "hotkeys": {
    "equation": "Ctrl-E",
    "itemize": "Ctrl-I"
   },
   "labels_anchors": false,
   "latex_user_defs": false,
   "report_style_numbering": false,
   "user_envs_cfg": false
  },
  "toc": {
   "base_numbering": 1,
   "nav_menu": {},
   "number_sections": false,
   "sideBar": true,
   "skip_h1_title": false,
   "title_cell": "Table of Contents",
   "title_sidebar": "Contents",
   "toc_cell": false,
   "toc_position": {
    "height": "calc(100% - 180px)",
    "left": "10px",
    "top": "150px",
    "width": "320px"
   },
   "toc_section_display": true,
   "toc_window_display": false
  },
  "varInspector": {
   "cols": {
    "lenName": 16,
    "lenType": 16,
    "lenVar": 40
   },
   "kernels_config": {
    "python": {
     "delete_cmd_postfix": "",
     "delete_cmd_prefix": "del ",
     "library": "var_list.py",
     "varRefreshCmd": "print(var_dic_list())"
    },
    "r": {
     "delete_cmd_postfix": ") ",
     "delete_cmd_prefix": "rm(",
     "library": "var_list.r",
     "varRefreshCmd": "cat(var_dic_list()) "
    }
   },
   "types_to_exclude": [
    "module",
    "function",
    "builtin_function_or_method",
    "instance",
    "_Feature"
   ],
   "window_display": false
  }
 },
 "nbformat": 4,
 "nbformat_minor": 5
}
