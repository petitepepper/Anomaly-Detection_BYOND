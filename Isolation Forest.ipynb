{
 "cells": [
  {
   "cell_type": "code",
   "execution_count": 2,
   "metadata": {},
   "outputs": [],
   "source": [
    "import numpy as np\n",
    "import pandas as pd\n",
    "import seaborn as sns\n",
    "import matplotlib.pyplot as plt\n",
    "from sklearn.ensemble import IsolationForest"
   ]
  },
  {
   "cell_type": "markdown",
   "metadata": {},
   "source": [
    "# 0. Data Exploration"
   ]
  },
  {
   "cell_type": "code",
   "execution_count": 52,
   "metadata": {
    "scrolled": true
   },
   "outputs": [
    {
     "data": {
      "text/html": [
       "<div>\n",
       "<style scoped>\n",
       "    .dataframe tbody tr th:only-of-type {\n",
       "        vertical-align: middle;\n",
       "    }\n",
       "\n",
       "    .dataframe tbody tr th {\n",
       "        vertical-align: top;\n",
       "    }\n",
       "\n",
       "    .dataframe thead th {\n",
       "        text-align: right;\n",
       "    }\n",
       "</style>\n",
       "<table border=\"1\" class=\"dataframe\">\n",
       "  <thead>\n",
       "    <tr style=\"text-align: right;\">\n",
       "      <th></th>\n",
       "      <th>index</th>\n",
       "      <th>cell_id</th>\n",
       "      <th>DL_TRAFFIC_VOLUME</th>\n",
       "      <th>UL_TRAFFIC_VOLUME</th>\n",
       "      <th>Inter_X2_based_HO_prep</th>\n",
       "      <th>PDCP_SDU_Volume_DL</th>\n",
       "      <th>VoLTE_total_traffic</th>\n",
       "      <th>INTRA_FREQ_HO_SR_RATIO</th>\n",
       "      <th>RRC_SR_RATIO</th>\n",
       "      <th>Intra_eNB_HO_SR_total_RATIO</th>\n",
       "      <th>...</th>\n",
       "      <th>E_RAB_QCI1_DR_RATIO</th>\n",
       "      <th>DCR_LTE_RATIO</th>\n",
       "      <th>CSSR_LTE_RATIO</th>\n",
       "      <th>LTE_INTER_ENODEB_HOSR_RATIO</th>\n",
       "      <th>E_UTRAN_Inter_Freq_HO_SR_RATIO</th>\n",
       "      <th>Inter_RAT_HO_SR_GERAN_SRVCC_RATIO</th>\n",
       "      <th>Inter_RAT_Total_HO_SR_RATIO</th>\n",
       "      <th>E_UTRAN_tot_HO_SR_inter_eNB_X2_RATIO</th>\n",
       "      <th>DL_THROUGHPUT_RATIO</th>\n",
       "      <th>E_RAB_DR_RATIO</th>\n",
       "    </tr>\n",
       "  </thead>\n",
       "  <tbody>\n",
       "    <tr>\n",
       "      <th>0</th>\n",
       "      <td>09/05/2021 00:00</td>\n",
       "      <td>2.226537e+17</td>\n",
       "      <td>3.779737e+10</td>\n",
       "      <td>3.947172e+09</td>\n",
       "      <td>15.0</td>\n",
       "      <td>3.779737e+10</td>\n",
       "      <td>4727.0</td>\n",
       "      <td>0.809859</td>\n",
       "      <td>0.992427</td>\n",
       "      <td>0.809859</td>\n",
       "      <td>...</td>\n",
       "      <td>0.000000</td>\n",
       "      <td>0.001761</td>\n",
       "      <td>0.996041</td>\n",
       "      <td>0.400000</td>\n",
       "      <td>0.770642</td>\n",
       "      <td>0.963636</td>\n",
       "      <td>0.963636</td>\n",
       "      <td>0.400000</td>\n",
       "      <td>82.550417</td>\n",
       "      <td>0.001761</td>\n",
       "    </tr>\n",
       "    <tr>\n",
       "      <th>1</th>\n",
       "      <td>09/05/2021 01:00</td>\n",
       "      <td>2.226537e+17</td>\n",
       "      <td>3.684898e+10</td>\n",
       "      <td>4.088752e+09</td>\n",
       "      <td>6.0</td>\n",
       "      <td>3.684898e+10</td>\n",
       "      <td>3076.0</td>\n",
       "      <td>0.886792</td>\n",
       "      <td>0.993288</td>\n",
       "      <td>0.886792</td>\n",
       "      <td>...</td>\n",
       "      <td>0.000000</td>\n",
       "      <td>0.002468</td>\n",
       "      <td>0.995465</td>\n",
       "      <td>0.500000</td>\n",
       "      <td>0.842105</td>\n",
       "      <td>1.000000</td>\n",
       "      <td>1.000000</td>\n",
       "      <td>0.500000</td>\n",
       "      <td>80.531811</td>\n",
       "      <td>0.002468</td>\n",
       "    </tr>\n",
       "    <tr>\n",
       "      <th>2</th>\n",
       "      <td>09/05/2021 02:00</td>\n",
       "      <td>2.226537e+17</td>\n",
       "      <td>3.292677e+10</td>\n",
       "      <td>5.016897e+09</td>\n",
       "      <td>8.0</td>\n",
       "      <td>3.292677e+10</td>\n",
       "      <td>3501.0</td>\n",
       "      <td>0.938356</td>\n",
       "      <td>0.994664</td>\n",
       "      <td>0.938356</td>\n",
       "      <td>...</td>\n",
       "      <td>0.013889</td>\n",
       "      <td>0.003077</td>\n",
       "      <td>0.996044</td>\n",
       "      <td>0.375000</td>\n",
       "      <td>0.931624</td>\n",
       "      <td>1.000000</td>\n",
       "      <td>0.966667</td>\n",
       "      <td>0.375000</td>\n",
       "      <td>71.885311</td>\n",
       "      <td>0.003077</td>\n",
       "    </tr>\n",
       "    <tr>\n",
       "      <th>3</th>\n",
       "      <td>09/05/2021 03:00</td>\n",
       "      <td>2.226537e+17</td>\n",
       "      <td>3.021547e+10</td>\n",
       "      <td>5.139107e+09</td>\n",
       "      <td>9.0</td>\n",
       "      <td>3.021547e+10</td>\n",
       "      <td>2275.0</td>\n",
       "      <td>0.860215</td>\n",
       "      <td>0.994819</td>\n",
       "      <td>0.860215</td>\n",
       "      <td>...</td>\n",
       "      <td>0.000000</td>\n",
       "      <td>0.001721</td>\n",
       "      <td>0.995920</td>\n",
       "      <td>0.777778</td>\n",
       "      <td>0.816901</td>\n",
       "      <td>0.947368</td>\n",
       "      <td>0.947368</td>\n",
       "      <td>0.777778</td>\n",
       "      <td>65.977430</td>\n",
       "      <td>0.001721</td>\n",
       "    </tr>\n",
       "    <tr>\n",
       "      <th>4</th>\n",
       "      <td>09/05/2021 04:00</td>\n",
       "      <td>2.226537e+17</td>\n",
       "      <td>3.082176e+10</td>\n",
       "      <td>4.250716e+09</td>\n",
       "      <td>17.0</td>\n",
       "      <td>3.082176e+10</td>\n",
       "      <td>2178.0</td>\n",
       "      <td>0.840426</td>\n",
       "      <td>0.995952</td>\n",
       "      <td>0.840426</td>\n",
       "      <td>...</td>\n",
       "      <td>0.000000</td>\n",
       "      <td>0.002213</td>\n",
       "      <td>0.995628</td>\n",
       "      <td>0.764706</td>\n",
       "      <td>0.794521</td>\n",
       "      <td>1.000000</td>\n",
       "      <td>1.000000</td>\n",
       "      <td>0.764706</td>\n",
       "      <td>67.324805</td>\n",
       "      <td>0.002213</td>\n",
       "    </tr>\n",
       "  </tbody>\n",
       "</table>\n",
       "<p>5 rows × 26 columns</p>\n",
       "</div>"
      ],
      "text/plain": [
       "              index       cell_id  DL_TRAFFIC_VOLUME  UL_TRAFFIC_VOLUME  \\\n",
       "0  09/05/2021 00:00  2.226537e+17       3.779737e+10       3.947172e+09   \n",
       "1  09/05/2021 01:00  2.226537e+17       3.684898e+10       4.088752e+09   \n",
       "2  09/05/2021 02:00  2.226537e+17       3.292677e+10       5.016897e+09   \n",
       "3  09/05/2021 03:00  2.226537e+17       3.021547e+10       5.139107e+09   \n",
       "4  09/05/2021 04:00  2.226537e+17       3.082176e+10       4.250716e+09   \n",
       "\n",
       "   Inter_X2_based_HO_prep  PDCP_SDU_Volume_DL  VoLTE_total_traffic  \\\n",
       "0                    15.0        3.779737e+10               4727.0   \n",
       "1                     6.0        3.684898e+10               3076.0   \n",
       "2                     8.0        3.292677e+10               3501.0   \n",
       "3                     9.0        3.021547e+10               2275.0   \n",
       "4                    17.0        3.082176e+10               2178.0   \n",
       "\n",
       "   INTRA_FREQ_HO_SR_RATIO  RRC_SR_RATIO  Intra_eNB_HO_SR_total_RATIO  ...  \\\n",
       "0                0.809859      0.992427                     0.809859  ...   \n",
       "1                0.886792      0.993288                     0.886792  ...   \n",
       "2                0.938356      0.994664                     0.938356  ...   \n",
       "3                0.860215      0.994819                     0.860215  ...   \n",
       "4                0.840426      0.995952                     0.840426  ...   \n",
       "\n",
       "   E_RAB_QCI1_DR_RATIO  DCR_LTE_RATIO  CSSR_LTE_RATIO  \\\n",
       "0             0.000000       0.001761        0.996041   \n",
       "1             0.000000       0.002468        0.995465   \n",
       "2             0.013889       0.003077        0.996044   \n",
       "3             0.000000       0.001721        0.995920   \n",
       "4             0.000000       0.002213        0.995628   \n",
       "\n",
       "   LTE_INTER_ENODEB_HOSR_RATIO  E_UTRAN_Inter_Freq_HO_SR_RATIO  \\\n",
       "0                     0.400000                        0.770642   \n",
       "1                     0.500000                        0.842105   \n",
       "2                     0.375000                        0.931624   \n",
       "3                     0.777778                        0.816901   \n",
       "4                     0.764706                        0.794521   \n",
       "\n",
       "   Inter_RAT_HO_SR_GERAN_SRVCC_RATIO  Inter_RAT_Total_HO_SR_RATIO  \\\n",
       "0                           0.963636                     0.963636   \n",
       "1                           1.000000                     1.000000   \n",
       "2                           1.000000                     0.966667   \n",
       "3                           0.947368                     0.947368   \n",
       "4                           1.000000                     1.000000   \n",
       "\n",
       "   E_UTRAN_tot_HO_SR_inter_eNB_X2_RATIO  DL_THROUGHPUT_RATIO  E_RAB_DR_RATIO  \n",
       "0                              0.400000            82.550417        0.001761  \n",
       "1                              0.500000            80.531811        0.002468  \n",
       "2                              0.375000            71.885311        0.003077  \n",
       "3                              0.777778            65.977430        0.001721  \n",
       "4                              0.764706            67.324805        0.002213  \n",
       "\n",
       "[5 rows x 26 columns]"
      ]
     },
     "execution_count": 52,
     "metadata": {},
     "output_type": "execute_result"
    }
   ],
   "source": [
    "df = pd.read_csv(\"KPIs sample 5 cells data_train.csv\",delimiter=\";\")\n",
    "df.head()"
   ]
  },
  {
   "cell_type": "code",
   "execution_count": 131,
   "metadata": {},
   "outputs": [
    {
     "data": {
      "text/plain": [
       "8280"
      ]
     },
     "execution_count": 131,
     "metadata": {},
     "output_type": "execute_result"
    }
   ],
   "source": [
    "# Check the number of records\n",
    "len(df)"
   ]
  },
  {
   "cell_type": "code",
   "execution_count": 15,
   "metadata": {},
   "outputs": [
    {
     "data": {
      "text/plain": [
       "9.106218e+16    1656\n",
       "2.226537e+17    1656\n",
       "3.844733e+17    1656\n",
       "4.262775e+17    1656\n",
       "7.315874e+16    1656\n",
       "Name: cell_id, dtype: int64"
      ]
     },
     "execution_count": 15,
     "metadata": {},
     "output_type": "execute_result"
    }
   ],
   "source": [
    "# Check cell_id count\n",
    "df[\"cell_id\"].value_counts()"
   ]
  },
  {
   "cell_type": "code",
   "execution_count": 18,
   "metadata": {},
   "outputs": [
    {
     "data": {
      "text/plain": [
       "index                                                       object\n",
       "cell_id                                                    float64\n",
       "DL_TRAFFIC_VOLUME                                          float64\n",
       "UL_TRAFFIC_VOLUME                                          float64\n",
       "Inter_X2_based_HO_prep                                     float64\n",
       "PDCP_SDU_Volume_DL                                         float64\n",
       "VoLTE_total_traffic                                        float64\n",
       "INTRA_FREQ_HO_SR_RATIO                                     float64\n",
       "RRC_SR_RATIO                                               float64\n",
       "Intra_eNB_HO_SR_total_RATIO                                float64\n",
       "E_UTRAN_RRC_Conn_Stp_Failure_due_RRC_timer_expiry_RATIO    float64\n",
       "CELL_AVAILABILITY_RATIO                                    float64\n",
       "RACH_Stp_Completion_SR_RATIO                               float64\n",
       "Total_E_UTRAN_RRC_Conn_Stp_SR_RATIO                        float64\n",
       "Inter_RAT_HO_SR_UTRAN_SRVCC_RATIO                          float64\n",
       "UL_THROUGHPUT_RATIO                                        float64\n",
       "E_RAB_QCI1_DR_RATIO                                        float64\n",
       "DCR_LTE_RATIO                                              float64\n",
       "CSSR_LTE_RATIO                                             float64\n",
       "LTE_INTER_ENODEB_HOSR_RATIO                                float64\n",
       "E_UTRAN_Inter_Freq_HO_SR_RATIO                             float64\n",
       "Inter_RAT_HO_SR_GERAN_SRVCC_RATIO                          float64\n",
       "Inter_RAT_Total_HO_SR_RATIO                                float64\n",
       "E_UTRAN_tot_HO_SR_inter_eNB_X2_RATIO                       float64\n",
       "DL_THROUGHPUT_RATIO                                        float64\n",
       "E_RAB_DR_RATIO                                             float64\n",
       "dtype: object"
      ]
     },
     "execution_count": 18,
     "metadata": {},
     "output_type": "execute_result"
    }
   ],
   "source": [
    "# Check data type\n",
    "df.dtypes"
   ]
  },
  {
   "cell_type": "code",
   "execution_count": 10,
   "metadata": {},
   "outputs": [
    {
     "data": {
      "text/plain": [
       "index                                                         0\n",
       "cell_id                                                       0\n",
       "DL_TRAFFIC_VOLUME                                            21\n",
       "UL_TRAFFIC_VOLUME                                            21\n",
       "Inter_X2_based_HO_prep                                     3313\n",
       "PDCP_SDU_Volume_DL                                         3313\n",
       "VoLTE_total_traffic                                        3313\n",
       "INTRA_FREQ_HO_SR_RATIO                                       40\n",
       "RRC_SR_RATIO                                                 28\n",
       "Intra_eNB_HO_SR_total_RATIO                                3321\n",
       "E_UTRAN_RRC_Conn_Stp_Failure_due_RRC_timer_expiry_RATIO    3313\n",
       "CELL_AVAILABILITY_RATIO                                      20\n",
       "RACH_Stp_Completion_SR_RATIO                               3313\n",
       "Total_E_UTRAN_RRC_Conn_Stp_SR_RATIO                        3313\n",
       "Inter_RAT_HO_SR_UTRAN_SRVCC_RATIO                          5595\n",
       "UL_THROUGHPUT_RATIO                                          28\n",
       "E_RAB_QCI1_DR_RATIO                                        3324\n",
       "DCR_LTE_RATIO                                                28\n",
       "CSSR_LTE_RATIO                                               28\n",
       "LTE_INTER_ENODEB_HOSR_RATIO                                1695\n",
       "E_UTRAN_Inter_Freq_HO_SR_RATIO                             4967\n",
       "Inter_RAT_HO_SR_GERAN_SRVCC_RATIO                          3989\n",
       "Inter_RAT_Total_HO_SR_RATIO                                3731\n",
       "E_UTRAN_tot_HO_SR_inter_eNB_X2_RATIO                       3347\n",
       "DL_THROUGHPUT_RATIO                                          28\n",
       "E_RAB_DR_RATIO                                             3314\n",
       "dtype: int64"
      ]
     },
     "execution_count": 10,
     "metadata": {},
     "output_type": "execute_result"
    }
   ],
   "source": [
    "# Check number of null value in each column \n",
    "df.isnull().sum(axis=0)"
   ]
  },
  {
   "cell_type": "markdown",
   "metadata": {},
   "source": [
    "## Check infinite values"
   ]
  },
  {
   "cell_type": "code",
   "execution_count": 70,
   "metadata": {
    "scrolled": true
   },
   "outputs": [
    {
     "name": "stdout",
     "output_type": "stream",
     "text": [
      "n_infinite \t feature_name\n",
      "0\t\tDL_TRAFFIC_VOLUME\n",
      "0\t\tUL_TRAFFIC_VOLUME\n",
      "0\t\tInter_X2_based_HO_prep\n",
      "0\t\tPDCP_SDU_Volume_DL\n",
      "0\t\tVoLTE_total_traffic\n",
      "0\t\tINTRA_FREQ_HO_SR_RATIO\n",
      "0\t\tRRC_SR_RATIO\n",
      "0\t\tIntra_eNB_HO_SR_total_RATIO\n",
      "0\t\tE_UTRAN_RRC_Conn_Stp_Failure_due_RRC_timer_expiry_RATIO\n",
      "0\t\tCELL_AVAILABILITY_RATIO\n",
      "0\t\tRACH_Stp_Completion_SR_RATIO\n",
      "0\t\tTotal_E_UTRAN_RRC_Conn_Stp_SR_RATIO\n",
      "1\t\tInter_RAT_HO_SR_UTRAN_SRVCC_RATIO\n",
      "0\t\tUL_THROUGHPUT_RATIO\n",
      "0\t\tE_RAB_QCI1_DR_RATIO\n",
      "0\t\tDCR_LTE_RATIO\n",
      "0\t\tCSSR_LTE_RATIO\n",
      "0\t\tLTE_INTER_ENODEB_HOSR_RATIO\n",
      "0\t\tE_UTRAN_Inter_Freq_HO_SR_RATIO\n",
      "0\t\tInter_RAT_HO_SR_GERAN_SRVCC_RATIO\n",
      "0\t\tInter_RAT_Total_HO_SR_RATIO\n",
      "0\t\tE_UTRAN_tot_HO_SR_inter_eNB_X2_RATIO\n",
      "0\t\tDL_THROUGHPUT_RATIO\n",
      "0\t\tE_RAB_DR_RATIO\n"
     ]
    }
   ],
   "source": [
    "# remove \"index\" and \"cell_id\" \n",
    "features = df.drop([\"index\",\"cell_id\"],axis=1)\n",
    "\n",
    "# print out infinite value counts\n",
    "print(\"n_infinite \\t feature_name\")\n",
    "for feature in features.columns: \n",
    "    n_inf = np.isinf(features[feature]).sum()\n",
    "    print(str(n_inf) + \"\\t\\t\" +feature)"
   ]
  },
  {
   "cell_type": "code",
   "execution_count": 86,
   "metadata": {},
   "outputs": [],
   "source": [
    "condition = features[\"Inter_RAT_HO_SR_UTRAN_SRVCC_RATIO\"]==np.inf\n",
    "features = features.drop(features[condition].index)"
   ]
  },
  {
   "cell_type": "code",
   "execution_count": 132,
   "metadata": {},
   "outputs": [
    {
     "data": {
      "text/plain": [
       "8279"
      ]
     },
     "execution_count": 132,
     "metadata": {},
     "output_type": "execute_result"
    }
   ],
   "source": [
    "len(features)"
   ]
  },
  {
   "cell_type": "markdown",
   "metadata": {},
   "source": [
    "**Plot the distribution of each feature**"
   ]
  },
  {
   "cell_type": "code",
   "execution_count": 84,
   "metadata": {},
   "outputs": [
    {
     "data": {
      "image/png": "[encoded data removed]",
      "text/plain": [
       "<Figure size 1152x2160 with 24 Axes>"
      ]
     },
     "metadata": {
      "needs_background": "light"
     },
     "output_type": "display_data"
    }
   ],
   "source": [
    "import math \n",
    "\n",
    "feature_names = features.columns\n",
    "feature_nb = len(feature_names)\n",
    "\n",
    "# plot the distribution of each feature\n",
    "n_per_row = 4\n",
    "n_rows = math.ceil(feature_nb/n_per_row)\n",
    "\n",
    "def get_fig_position(i,n_per_row):\n",
    "    row = i/n_per_row\n",
    "    col = i%n_per_row\n",
    "    return int(row),int(col)\n",
    "\n",
    "# plot hist\n",
    "fig,ax = plt.subplots(n_rows,n_per_row,figsize=[4*n_per_row,5*n_rows])\n",
    "for i,name in enumerate(feature_names):\n",
    "    ix,iy = get_fig_position(i,n_per_row)\n",
    "    axes = ax[ix][iy]\n",
    "    feature = features[name].dropna()\n",
    "    axes.set_title(name)\n",
    "    axes.hist(feature)\n",
    "plt.show()"
   ]
  },
  {
   "cell_type": "code",
   "execution_count": 127,
   "metadata": {
    "scrolled": true
   },
   "outputs": [],
   "source": [
    "null_cols = [   #1695\n",
    "                \"LTE_INTER_ENODEB_HOSR_RATIO\", \n",
    "                  \n",
    "                  #3313\n",
    "                  \"Inter_X2_based_HO_prep\", \n",
    "                  \"PDCP_SDU_Volume_DL\",\n",
    "                  \"VoLTE_total_traffic\",\n",
    "                  \"RACH_Stp_Completion_SR_RATIO\",\n",
    "                  \"E_UTRAN_RRC_Conn_Stp_Failure_due_RRC_timer_expiry_RATIO\",\n",
    "                  \"Total_E_UTRAN_RRC_Conn_Stp_SR_RATIO\",\n",
    "                  \n",
    "                 \"E_RAB_DR_RATIO\", \n",
    "    \n",
    "                 \"Intra_eNB_HO_SR_total_RATIO\", #6~8个不为空\n",
    "                 \"E_RAB_QCI1_DR_RATIO\", # 10\n",
    "                 \"E_UTRAN_tot_HO_SR_inter_eNB_X2_RATIO\", # 14个\n",
    "                  \n",
    "                 \"Inter_RAT_Total_HO_SR_RATIO\", #E_UTRAN 48个 其余1\n",
    "    \n",
    "                  # 后面很多 100+\n",
    "                  \"Inter_RAT_HO_SR_GERAN_SRVCC_RATIO\",\n",
    "                  \"E_UTRAN_Inter_Freq_HO_SR_RATIO\",\n",
    "                  \"Inter_RAT_HO_SR_UTRAN_SRVCC_RATIO\"]\n"
   ]
  },
  {
   "cell_type": "code",
   "execution_count": 130,
   "metadata": {},
   "outputs": [
    {
     "data": {
      "text/html": [
       "<div>\n",
       "<style scoped>\n",
       "    .dataframe tbody tr th:only-of-type {\n",
       "        vertical-align: middle;\n",
       "    }\n",
       "\n",
       "    .dataframe tbody tr th {\n",
       "        vertical-align: top;\n",
       "    }\n",
       "\n",
       "    .dataframe thead th {\n",
       "        text-align: right;\n",
       "    }\n",
       "</style>\n",
       "<table border=\"1\" class=\"dataframe\">\n",
       "  <thead>\n",
       "    <tr style=\"text-align: right;\">\n",
       "      <th></th>\n",
       "      <th>Inter_RAT_Total_HO_SR_RATIO</th>\n",
       "      <th>Inter_RAT_HO_SR_GERAN_SRVCC_RATIO</th>\n",
       "      <th>E_UTRAN_Inter_Freq_HO_SR_RATIO</th>\n",
       "      <th>Inter_RAT_HO_SR_UTRAN_SRVCC_RATIO</th>\n",
       "    </tr>\n",
       "  </thead>\n",
       "  <tbody>\n",
       "    <tr>\n",
       "      <th>count</th>\n",
       "      <td>1284.000000</td>\n",
       "      <td>1045.000000</td>\n",
       "      <td>0.0</td>\n",
       "      <td>985.000000</td>\n",
       "    </tr>\n",
       "    <tr>\n",
       "      <th>mean</th>\n",
       "      <td>0.958340</td>\n",
       "      <td>0.997129</td>\n",
       "      <td>NaN</td>\n",
       "      <td>0.914455</td>\n",
       "    </tr>\n",
       "    <tr>\n",
       "      <th>std</th>\n",
       "      <td>0.134512</td>\n",
       "      <td>0.032782</td>\n",
       "      <td>NaN</td>\n",
       "      <td>0.223298</td>\n",
       "    </tr>\n",
       "    <tr>\n",
       "      <th>min</th>\n",
       "      <td>0.000000</td>\n",
       "      <td>0.333333</td>\n",
       "      <td>NaN</td>\n",
       "      <td>0.000000</td>\n",
       "    </tr>\n",
       "    <tr>\n",
       "      <th>25%</th>\n",
       "      <td>1.000000</td>\n",
       "      <td>1.000000</td>\n",
       "      <td>NaN</td>\n",
       "      <td>1.000000</td>\n",
       "    </tr>\n",
       "    <tr>\n",
       "      <th>50%</th>\n",
       "      <td>1.000000</td>\n",
       "      <td>1.000000</td>\n",
       "      <td>NaN</td>\n",
       "      <td>1.000000</td>\n",
       "    </tr>\n",
       "    <tr>\n",
       "      <th>75%</th>\n",
       "      <td>1.000000</td>\n",
       "      <td>1.000000</td>\n",
       "      <td>NaN</td>\n",
       "      <td>1.000000</td>\n",
       "    </tr>\n",
       "    <tr>\n",
       "      <th>max</th>\n",
       "      <td>2.000000</td>\n",
       "      <td>1.000000</td>\n",
       "      <td>NaN</td>\n",
       "      <td>2.000000</td>\n",
       "    </tr>\n",
       "  </tbody>\n",
       "</table>\n",
       "</div>"
      ],
      "text/plain": [
       "       Inter_RAT_Total_HO_SR_RATIO  Inter_RAT_HO_SR_GERAN_SRVCC_RATIO  \\\n",
       "count                  1284.000000                        1045.000000   \n",
       "mean                      0.958340                           0.997129   \n",
       "std                       0.134512                           0.032782   \n",
       "min                       0.000000                           0.333333   \n",
       "25%                       1.000000                           1.000000   \n",
       "50%                       1.000000                           1.000000   \n",
       "75%                       1.000000                           1.000000   \n",
       "max                       2.000000                           1.000000   \n",
       "\n",
       "       E_UTRAN_Inter_Freq_HO_SR_RATIO  Inter_RAT_HO_SR_UTRAN_SRVCC_RATIO  \n",
       "count                             0.0                         985.000000  \n",
       "mean                              NaN                           0.914455  \n",
       "std                               NaN                           0.223298  \n",
       "min                               NaN                           0.000000  \n",
       "25%                               NaN                           1.000000  \n",
       "50%                               NaN                           1.000000  \n",
       "75%                               NaN                           1.000000  \n",
       "max                               NaN                           2.000000  "
      ]
     },
     "execution_count": 130,
     "metadata": {},
     "output_type": "execute_result"
    }
   ],
   "source": [
    "df_check = features[features[\"Inter_X2_based_HO_prep\"].isnull()]\n",
    "df_check[null_cols].describe()"
   ]
  },
  {
   "cell_type": "markdown",
   "metadata": {},
   "source": [
    "# 1. Data preprocessing"
   ]
  },
  {
   "cell_type": "markdown",
   "metadata": {},
   "source": [
    "## 1.1 Null values"
   ]
  },
  {
   "cell_type": "code",
   "execution_count": 89,
   "metadata": {},
   "outputs": [
    {
     "data": {
      "text/plain": [
       "DL_TRAFFIC_VOLUME                                            21\n",
       "UL_TRAFFIC_VOLUME                                            21\n",
       "Inter_X2_based_HO_prep                                     3313\n",
       "PDCP_SDU_Volume_DL                                         3313\n",
       "VoLTE_total_traffic                                        3313\n",
       "INTRA_FREQ_HO_SR_RATIO                                       40\n",
       "RRC_SR_RATIO                                                 28\n",
       "Intra_eNB_HO_SR_total_RATIO                                3321\n",
       "E_UTRAN_RRC_Conn_Stp_Failure_due_RRC_timer_expiry_RATIO    3313\n",
       "CELL_AVAILABILITY_RATIO                                      20\n",
       "RACH_Stp_Completion_SR_RATIO                               3313\n",
       "Total_E_UTRAN_RRC_Conn_Stp_SR_RATIO                        3313\n",
       "Inter_RAT_HO_SR_UTRAN_SRVCC_RATIO                          5595\n",
       "UL_THROUGHPUT_RATIO                                          28\n",
       "E_RAB_QCI1_DR_RATIO                                        3324\n",
       "DCR_LTE_RATIO                                                28\n",
       "CSSR_LTE_RATIO                                               28\n",
       "LTE_INTER_ENODEB_HOSR_RATIO                                1695\n",
       "E_UTRAN_Inter_Freq_HO_SR_RATIO                             4967\n",
       "Inter_RAT_HO_SR_GERAN_SRVCC_RATIO                          3989\n",
       "Inter_RAT_Total_HO_SR_RATIO                                3731\n",
       "E_UTRAN_tot_HO_SR_inter_eNB_X2_RATIO                       3347\n",
       "DL_THROUGHPUT_RATIO                                          28\n",
       "E_RAB_DR_RATIO                                             3314\n",
       "dtype: int64"
      ]
     },
     "execution_count": 89,
     "metadata": {},
     "output_type": "execute_result"
    }
   ],
   "source": [
    "# Check number of null value in each column \n",
    "features.isnull().sum(axis=0)"
   ]
  },
  {
   "cell_type": "code",
   "execution_count": null,
   "metadata": {
    "scrolled": true
   },
   "outputs": [],
   "source": [
    "df_test"
   ]
  },
  {
   "cell_type": "code",
   "execution_count": null,
   "metadata": {},
   "outputs": [],
   "source": []
  },
  {
   "cell_type": "code",
   "execution_count": null,
   "metadata": {},
   "outputs": [],
   "source": [
    "model=IsolationForest(n_estimators=50, \n",
    "                      max_samples='auto', \n",
    "                      contamination=float(0.1),\n",
    "                      max_features=1.0)\n",
    "model.fit(features)"
   ]
  }
 ],
 "metadata": {
  "kernelspec": {
   "display_name": "Python 3",
   "language": "python",
   "name": "python3"
  },
  "language_info": {
   "codemirror_mode": {
    "name": "ipython",
    "version": 3
   },
   "file_extension": ".py",
   "mimetype": "text/x-python",
   "name": "python",
   "nbconvert_exporter": "python",
   "pygments_lexer": "ipython3",
   "version": "3.7.6"
  },
  "latex_envs": {
   "LaTeX_envs_menu_present": true,
   "autoclose": false,
   "autocomplete": true,
   "bibliofile": "biblio.bib",
   "cite_by": "apalike",
   "current_citInitial": 1,
   "eqLabelWithNumbers": true,
   "eqNumInitial": 1,
   "hotkeys": {
    "equation": "Ctrl-E",
    "itemize": "Ctrl-I"
   },
   "labels_anchors": false,
   "latex_user_defs": false,
   "report_style_numbering": false,
   "user_envs_cfg": false
  },
  "toc": {
   "base_numbering": 1,
   "nav_menu": {},
   "number_sections": false,
   "sideBar": true,
   "skip_h1_title": false,
   "title_cell": "Table of Contents",
   "title_sidebar": "Contents",
   "toc_cell": false,
   "toc_position": {},
   "toc_section_display": true,
   "toc_window_display": false
  },
  "varInspector": {
   "cols": {
    "lenName": 16,
    "lenType": 16,
    "lenVar": 40
   },
   "kernels_config": {
    "python": {
     "delete_cmd_postfix": "",
     "delete_cmd_prefix": "del ",
     "library": "var_list.py",
     "varRefreshCmd": "print(var_dic_list())"
    },
    "r": {
     "delete_cmd_postfix": ") ",
     "delete_cmd_prefix": "rm(",
     "library": "var_list.r",
     "varRefreshCmd": "cat(var_dic_list()) "
    }
   },
   "types_to_exclude": [
    "module",
    "function",
    "builtin_function_or_method",
    "instance",
    "_Feature"
   ],
   "window_display": false
  }
 },
 "nbformat": 4,
 "nbformat_minor": 4
}
